{
 "cells": [
  {
   "cell_type": "markdown",
   "metadata": {},
   "source": [
    "# 0. Preps"
   ]
  },
  {
   "cell_type": "markdown",
   "metadata": {},
   "source": [
    "### 0.1 Load modules"
   ]
  },
  {
   "cell_type": "code",
   "execution_count": 1,
   "metadata": {},
   "outputs": [],
   "source": [
    "import numpy as np\n",
    "import matplotlib.pyplot as plt\n",
    "import netCDF4\n",
    "import cmocean \n",
    "import matplotlib.colors as colors\n",
    "from matplotlib import cm\n",
    "import datetime"
   ]
  },
  {
   "cell_type": "markdown",
   "metadata": {},
   "source": [
    "### 0.2 Pre-set parameters for plotting"
   ]
  },
  {
   "cell_type": "code",
   "execution_count": 2,
   "metadata": {},
   "outputs": [],
   "source": [
    "plt.rcParams.update({\n",
    "    \"font.weight\": \"normal\",\n",
    "    \"xtick.labelsize\": 15,\n",
    "    \"ytick.labelsize\": 15,\n",
    "    \"lines.color\": \"k\",\n",
    "    \"axes.titlesize\": 18,\n",
    "    \"axes.titleweight\": \"normal\",\n",
    "    \"axes.labelweight\": \"bold\",\n",
    "    \"axes.labelsize\": 18,\n",
    "    \"contour.linewidth\": 0.8,\n",
    "    \"legend.fontsize\": 14,\n",
    "    \"pcolor.shading\": \"auto\"\n",
    "})"
   ]
  },
  {
   "cell_type": "markdown",
   "metadata": {},
   "source": [
    "### 0.3 Plotting functions"
   ]
  },
  {
   "cell_type": "code",
   "execution_count": 3,
   "metadata": {},
   "outputs": [],
   "source": [
    "def warner_plot(x_axis,y_axis,var,tmin,tmax,cmap,it,name,label):\n",
    "    '''\n",
    "    This function plots a chosen variable in a z-x-section.\n",
    "    _____________________________________________________________________\n",
    "    \n",
    "    x_axis ---> distance along x-axis\n",
    "    y_axis ---> depth\n",
    "    var    ---> chosen variable (e.g. salinity)\n",
    "    tmin   ---> start value of the chosen variable for its normalization\n",
    "    tmax   ---> stop value of the chosen variable for its normalization\n",
    "    cmap   ---> choose predefined colormap\n",
    "    it     ---> choose time step\n",
    "    label  ---> label of colormap\n",
    "    _____________________________________________________________________\n",
    "    '''\n",
    "    fig, ax  = plt.subplots    (figsize=(9,6))                                                              # plot fig with one subplot\n",
    "    norm_fld = colors.Normalize(vmin=tmin, vmax=tmax, clip=False)                                           # linearly normalizes data into [vmin,vmax] interval\n",
    "    cs       = ax.pcolormesh   (x_axis,y_axis,var,norm=norm_fld,cmap=cmap)                                  # plot variable with pcolormesh\n",
    "    cbar     = plt.colorbar    (cs,orientation='horizontal',shrink=0.75,pad=0.2)                            # add colorbar\n",
    "    xticks   = np.linspace     (tmin,tmax,num=5)                                                            # specify location of colorbar ticks\n",
    "    timestamp = datetime.datetime(year=2001,month=1,day=1,hour=0,minute=0,second=0)                         # start counting timesteps from 2001-01-01 00:00:00\n",
    "    timestamp += datetime.timedelta(seconds=int(time.data[it]))                                             # add time steps to timestamp to make connection between real\n",
    "                                                                                                            # time and time step\n",
    "    cbar.set_label(label)                                                                                   # add colorbar label\n",
    "    cbar.set_ticks(xticks)                                                                                  # set colorbar ticks\n",
    "    ax.set(title=str(timestamp),xlabel='Distance along x [m]',ylabel='Depth [m]',\n",
    "           xlim=(0, 100000),ylim=(-15,1.5))                                                                 # set axis labels and limits\n",
    "    ax.tick_params(labeltop=False, labelright=False,direction = 'inout')                                    # specify axis ticks\n",
    "    plt.axhline(0,color='k',lw=3,ls=':')                                                                    # add horizontal line at 0\n",
    "    plt.savefig('/work/henell/tools/GETM/setups/warner/figs_warner/'+name+'_'+str(str(it).zfill(3))+'.png') # save fig as png file with variable name and its timestep \n",
    "    plt.clf()                                                                                               # clear fig"
   ]
  },
  {
   "cell_type": "code",
   "execution_count": 4,
   "metadata": {},
   "outputs": [],
   "source": [
    "cmap_uu   = cm.get_cmap(\"RdBu_r\")      # pre-defined colormap for zonal velocity\n",
    "cmap_salt = cmocean.cm.delta           # pre-defined colormap for salinity"
   ]
  },
  {
   "cell_type": "markdown",
   "metadata": {},
   "source": [
    "# 1. Load file with resolved tidal data"
   ]
  },
  {
   "cell_type": "code",
   "execution_count": 5,
   "metadata": {},
   "outputs": [],
   "source": [
    "path_file = '/home/henell/WORK/tools/GETM/setups/warner/warner.3d.nc'    # location of file\n",
    "id_file   = netCDF4.Dataset(path_file, 'r')                              # read file"
   ]
  },
  {
   "cell_type": "code",
   "execution_count": 6,
   "metadata": {},
   "outputs": [
    {
     "name": "stdout",
     "output_type": "stream",
     "text": [
      "\n",
      " Variables in the files:\n",
      " *** grid_type -> has 0 dimensions\n",
      " *** vert_cord -> has 0 dimensions\n",
      " *** ioff -> has 0 dimensions\n",
      " *** joff -> has 0 dimensions\n",
      " *** dx -> has 0 dimensions\n",
      " *** dy -> has 0 dimensions\n",
      " *** xc -> has 1 dimensions\n",
      " *** yc -> has 1 dimensions\n",
      " *** sigma -> has 1 dimensions\n",
      " *** bathymetry -> has 2 dimensions\n",
      " *** time -> has 1 dimensions\n",
      " *** elev -> has 3 dimensions\n",
      " *** u -> has 3 dimensions\n",
      " *** v -> has 3 dimensions\n",
      " *** hcc -> has 3 dimensions\n",
      " *** uu -> has 4 dimensions\n",
      " *** vv -> has 4 dimensions\n",
      " *** w -> has 4 dimensions\n",
      " *** salt -> has 4 dimensions\n",
      " *** sigma_t -> has 4 dimensions\n",
      "\n"
     ]
    }
   ],
   "source": [
    "# find out dimensions of variables contained in file\n",
    "list_var = id_file.variables.keys()\n",
    "print('\\n Variables in the files:')\n",
    "for cvar in list_var:\n",
    "    nb_dim = len(id_file.variables[cvar].dimensions)\n",
    "    print(' *** '+cvar+' -> has '+str(nb_dim)+' dimensions')\n",
    "print('')"
   ]
  },
  {
   "cell_type": "code",
   "execution_count": 7,
   "metadata": {},
   "outputs": [],
   "source": [
    "j = 0                                         # j is set to zero since in this case our variables do not depend on yc\n",
    "xc    = id_file.variables['xc'][:]            # xc [m]\n",
    "time  = id_file.variables['time'][1:]         # time [s], seconds since 2000-01-01 00:00:00\n",
    "                                              # exclude initial tidal snapshot (avoid double-counting during tidal averaging)\n",
    "sigma = id_file.variables['sigma'][:]         # depth in sigma coordinates\n",
    "elev  = id_file.variables['elev'][:,j,:]      # elevation [m] (is equal to eta)\n",
    "salt  = id_file.variables['salt'][:,:,j,:]    # salinity [PSU]\n",
    "uu    = id_file.variables['uu'][:,:,j,:]      # zonal vel. [m/s]\n",
    "bathy = id_file.variables['bathymetry'][j,:]  # bathymetry [m] (is equal to H)\n",
    "id_file.close()                               # close netCDF file"
   ]
  },
  {
   "cell_type": "code",
   "execution_count": 8,
   "metadata": {},
   "outputs": [
    {
     "name": "stdout",
     "output_type": "stream",
     "text": [
      "\n",
      " Shape of the domain Nt, Nk, Ni =  113 41 201\n"
     ]
    }
   ],
   "source": [
    "(Nt,Nk,Ni) = np.shape(salt[:,:,:])\n",
    "print('\\n Shape of the domain Nt, Nk, Ni = ',Nt,Nk,Ni)"
   ]
  },
  {
   "cell_type": "markdown",
   "metadata": {},
   "source": [
    "# 2. Compute $dz$"
   ]
  },
  {
   "cell_type": "code",
   "execution_count": 9,
   "metadata": {},
   "outputs": [],
   "source": [
    "dz = np.empty( (Nt, Nk, Ni) )\n",
    "for t in range(Nt):\n",
    "    for k in range(1,Nk):\n",
    "        for i in range(Ni):\n",
    "            dz[t,k,i] = ( sigma[k] - sigma[k-1] ) * ( bathy[i] + elev[t,i] )"
   ]
  },
  {
   "cell_type": "code",
   "execution_count": 10,
   "metadata": {},
   "outputs": [],
   "source": [
    "# calculate zx based on dz\n",
    "xx = ( xc[:-1] + xc[1:] ) / 2\n",
    "zw = np.zeros_like(dz, subok=False)\n",
    "zw[:,:,:] = np.cumsum(dz[:,:,:], axis=1)\n",
    "zw = zw - bathy\n",
    "zx = ( zw[:,:,:-1] + zw[:,:,1:] ) / 2\n",
    "zx[:,:,0] = zw[:,:,1]\n",
    "zx[:,:,-1] = zw[:,:,-2]"
   ]
  },
  {
   "cell_type": "code",
   "execution_count": 11,
   "metadata": {},
   "outputs": [],
   "source": [
    "xx2d = np.resize(xx, zx[0,:,:].shape)"
   ]
  },
  {
   "cell_type": "markdown",
   "metadata": {},
   "source": [
    "# 3. Plot variable(s) in warner testcase"
   ]
  },
  {
   "cell_type": "code",
   "execution_count": 12,
   "metadata": {},
   "outputs": [],
   "source": [
    "s = 0   ### start\n",
    "f = 112 ### finish"
   ]
  },
  {
   "cell_type": "code",
   "execution_count": 13,
   "metadata": {},
   "outputs": [
    {
     "name": "stderr",
     "output_type": "stream",
     "text": [
      "<ipython-input-3-e5fe4c953c29>:18: UserWarning: The input coordinates to pcolormesh are interpreted as cell centers, but are not monotonically increasing or decreasing. This may lead to incorrectly calculated cell edges, in which case, please supply explicit cell edges to pcolormesh.\n",
      "  cs       = ax.pcolormesh   (x_axis,y_axis,var,norm=norm_fld,cmap=cmap)                                  # plot variable with pcolormesh\n"
     ]
    },
    {
     "data": {
      "text/plain": [
       "<Figure size 648x432 with 0 Axes>"
      ]
     },
     "metadata": {},
     "output_type": "display_data"
    },
    {
     "data": {
      "text/plain": [
       "<Figure size 648x432 with 0 Axes>"
      ]
     },
     "metadata": {},
     "output_type": "display_data"
    }
   ],
   "source": [
    "for i in range(s,f):\n",
    "    warner_plot(xx2d,zx[i,:,:],salt[i,:,:-1],0,30,cmap_salt,i,'salt','S [gkg$^{-1}$]')\n",
    "    warner_plot(xx2d,zx[i,:,:],uu[i,:,:-1],-0.5,0.5,cmap_uu,i,'uu','Zonal vel. [ms$^{-1}$]')"
   ]
  },
  {
   "cell_type": "code",
   "execution_count": null,
   "metadata": {},
   "outputs": [],
   "source": []
  }
 ],
 "metadata": {
  "kernelspec": {
   "display_name": "Python 3",
   "language": "python",
   "name": "python3"
  },
  "language_info": {
   "codemirror_mode": {
    "name": "ipython",
    "version": 3
   },
   "file_extension": ".py",
   "mimetype": "text/x-python",
   "name": "python",
   "nbconvert_exporter": "python",
   "pygments_lexer": "ipython3",
   "version": "3.8.5"
  }
 },
 "nbformat": 4,
 "nbformat_minor": 4
}
