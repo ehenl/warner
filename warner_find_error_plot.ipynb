{
 "cells": [
  {
   "cell_type": "code",
   "execution_count": 1,
   "metadata": {},
   "outputs": [],
   "source": [
    "import numpy as np\n",
    "import matplotlib.pyplot as plt\n",
    "import netCDF4\n",
    "import cmocean \n",
    "import matplotlib.colors as colors\n",
    "from matplotlib import cm"
   ]
  },
  {
   "cell_type": "code",
   "execution_count": 2,
   "metadata": {},
   "outputs": [],
   "source": [
    "plt.rcParams.update({\n",
    "    \"font.weight\": \"normal\",\n",
    "    \"xtick.labelsize\": 15,\n",
    "    \"ytick.labelsize\": 15,\n",
    "    \"lines.color\": \"k\",\n",
    "    \"axes.titlesize\": 18,\n",
    "    \"axes.titleweight\": \"normal\",\n",
    "    \"axes.labelweight\": \"bold\",\n",
    "    \"axes.labelsize\": 18,\n",
    "    \"contour.linewidth\": 0.8\n",
    "})"
   ]
  },
  {
   "cell_type": "code",
   "execution_count": 3,
   "metadata": {},
   "outputs": [],
   "source": [
    "def warner_2D_plot(x_axis,y_axis,var,tmin,tmax,dc,cmap):\n",
    "    '''\n",
    "    This function plots a chosen variable in a z-x-section.\n",
    "\n",
    "    x_axis ---> distance along x-axis\n",
    "    y_axis ---> depth\n",
    "    var    ---> chosen variable (e.g. salinity)\n",
    "    tmin   ---> start value of the chosen variable for its normalization\n",
    "    tmax   ---> stop value of the chosen variable for its normalization\n",
    "    dc     ---> normalization steps \n",
    "    cmap   ---> choose predefined colormap\n",
    "    '''\n",
    "    fig, ax  = plt.subplots    (figsize=(8,6))\n",
    "    norm_fld = colors.Normalize(vmin=tmin, vmax=tmax, clip=False)\n",
    "    vcont    = np.arange       (tmin, tmax + dc, dc)\n",
    "    cs = ax.pcolormesh(x_axis,y_axis,var,norm=norm_fld,cmap=cmap)\n",
    "    cbar = plt.colorbar (cs, orientation='horizontal', shrink=0.75,pad=0.2)\n",
    "    cbar.set_label('S [gkg$^{-1}$]') # add colorbar label\n",
    "    xticks = np.linspace(tmin,tmax,num=5)\n",
    "    cbar.set_ticks(xticks)\n",
    "    ax.set_xlabel('Distance along x [km]')\n",
    "    ax.set_ylabel('Depth [m]')\n",
    "    plt.xticks(np.arange(0, 100000+1, 20000))\n",
    "    ax.tick_params(labeltop=False, labelright=False,direction = 'inout')"
   ]
  },
  {
   "cell_type": "code",
   "execution_count": 4,
   "metadata": {},
   "outputs": [],
   "source": [
    "cmap_uu = cm.get_cmap(\"RdBu_r\")\n",
    "cmap_salt = cm.get_cmap(\"cubehelix\") "
   ]
  },
  {
   "cell_type": "code",
   "execution_count": 5,
   "metadata": {},
   "outputs": [],
   "source": [
    "path_file = '/home/henell/WORK/tools/GETM/setups/warner/warner.3d.nc'\n",
    "id_file = netCDF4.Dataset(path_file, 'r')\n",
    "\n",
    "xc    = id_file.variables['xc'][:]\n",
    "time  = id_file.variables['time'][1:] # exclude initial tidal snapshot (avoid double-counting during tidal averaging)\n",
    "sigma = id_file.variables['sigma'][:]\n",
    "elev  = id_file.variables['elev'][:,0,:]     # is equal to eta\n",
    "salt  = id_file.variables['salt'][:,:,0,:]   # salinity\n",
    "u     = id_file.variables['u'][1:,0,:]\n",
    "uu    = id_file.variables['uu'][:,:,0,:]     # zonal velocity\n",
    "bathy = id_file.variables['bathymetry'][0,:] # is equal to H\n",
    "dx    = id_file.variables['dx'][:]\n",
    "dy    = id_file.variables['dy'][:]"
   ]
  },
  {
   "cell_type": "code",
   "execution_count": 6,
   "metadata": {},
   "outputs": [
    {
     "name": "stdout",
     "output_type": "stream",
     "text": [
      "\n",
      " Shape of the domain Nt, Nk, Ni =  113 41 201\n"
     ]
    }
   ],
   "source": [
    "(Nt,Nk,Ni) = np.shape(salt[:,:,:])\n",
    "print('\\n Shape of the domain Nt, Nk, Ni = ',Nt,Nk,Ni)"
   ]
  },
  {
   "cell_type": "code",
   "execution_count": 7,
   "metadata": {},
   "outputs": [
    {
     "name": "stdout",
     "output_type": "stream",
     "text": [
      "(201,)\n",
      "(112,)\n",
      "(41,)\n",
      "(113, 201)\n",
      "(113, 41, 201)\n",
      "(113, 41, 201)\n",
      "(201,)\n"
     ]
    }
   ],
   "source": [
    "print(xc.shape)   \n",
    "print(time.shape)\n",
    "print(sigma.shape)\n",
    "print(elev.shape)\n",
    "print(salt.shape) \n",
    "print(uu.shape)\n",
    "print(bathy.shape)"
   ]
  },
  {
   "cell_type": "code",
   "execution_count": 8,
   "metadata": {},
   "outputs": [],
   "source": [
    "#dz = np.empty( (Nt, Nk, Ni) )\n",
    "#for t in range(Nt):\n",
    "#    for k in range(Nk-1):\n",
    "#        for i in range(Ni):\n",
    "#            dz[t,k,i] = ( sigma[k+1] - sigma[k-1] ) * ( H[i] + eta[t,i] )"
   ]
  },
  {
   "cell_type": "code",
   "execution_count": 9,
   "metadata": {},
   "outputs": [],
   "source": [
    "dz   = np.empty( (Nk, Ni) )\n",
    "#Salt = np.empty( (Nk, Ni) )\n",
    "\n",
    "for k in range(Nk-1):\n",
    "    for i in range(Ni):\n",
    "        dz[k,i]   = ( sigma[k+1] - sigma[k-1] ) * ( bathy[i] + elev[10,i] ) # computing dz\n",
    "        #print(dz[k,i])\n",
    "        #Salt[k,i] = salt[dz[k,i],i]"
   ]
  },
  {
   "cell_type": "code",
   "execution_count": 10,
   "metadata": {},
   "outputs": [
    {
     "name": "stdout",
     "output_type": "stream",
     "text": [
      "-14.960613378882408\n",
      "0.7672109425067909\n"
     ]
    }
   ],
   "source": [
    "print(dz.min())\n",
    "print(dz.max())"
   ]
  },
  {
   "cell_type": "code",
   "execution_count": 11,
   "metadata": {},
   "outputs": [
    {
     "name": "stdout",
     "output_type": "stream",
     "text": [
      "-0.02125136693545967\n",
      "-0.05004139862607434\n"
     ]
    }
   ],
   "source": [
    "uu_M   = np.mean( dz*uu ) / np.mean( dz )\n",
    "flux_M = np.mean( dz*uu*salt ) / np.mean( dz )\n",
    "print(uu_M)\n",
    "print(flux_M)"
   ]
  },
  {
   "cell_type": "code",
   "execution_count": 12,
   "metadata": {},
   "outputs": [
    {
     "data": {
      "image/png": "[encoded data removed]",
      "text/plain": [
       "<Figure size 576x432 with 2 Axes>"
      ]
     },
     "metadata": {
      "needs_background": "light"
     },
     "output_type": "display_data"
    }
   ],
   "source": [
    "warner_2D_plot(xc,dz,salt[10,:-1,:-1],0,30,5,cmap_salt)"
   ]
  },
  {
   "cell_type": "code",
   "execution_count": 13,
   "metadata": {},
   "outputs": [],
   "source": [
    "#salt[10,1:10,:] = dz[1:10,:]"
   ]
  },
  {
   "cell_type": "code",
   "execution_count": 14,
   "metadata": {},
   "outputs": [
    {
     "data": {
      "text/plain": [
       "array([-9999.      ,    29.619026,    29.62074 ,    29.622116,\n",
       "          29.623228,    29.62414 ,    29.624884,    29.625477,\n",
       "          29.62593 ,    29.626253,    29.626446,    29.626513,\n",
       "          29.626453,    29.626272,    29.625961,    29.625519,\n",
       "          29.624931,    29.624184,    29.623203,    29.621622,\n",
       "          29.619568,    29.60634 ,    29.580242,    29.559027,\n",
       "          29.49643 ,    29.316801,    29.136694,    29.016472,\n",
       "          28.700106,    28.459055,    28.261112,    28.05829 ,\n",
       "          27.818281,    27.48367 ,    26.879763,    25.99287 ,\n",
       "          25.103374,    23.975721,    21.925049,    19.633171,\n",
       "          19.045317], dtype=float32)"
      ]
     },
     "execution_count": 14,
     "metadata": {},
     "output_type": "execute_result"
    }
   ],
   "source": [
    "salt[10,:,10].data"
   ]
  },
  {
   "cell_type": "code",
   "execution_count": 15,
   "metadata": {},
   "outputs": [],
   "source": [
    "a = [1,2,3]\n",
    "b = 3"
   ]
  },
  {
   "cell_type": "code",
   "execution_count": 16,
   "metadata": {},
   "outputs": [
    {
     "data": {
      "text/plain": [
       "[1, 3, 3]"
      ]
     },
     "execution_count": 16,
     "metadata": {},
     "output_type": "execute_result"
    }
   ],
   "source": [
    "a[1] = b\n",
    "a"
   ]
  },
  {
   "cell_type": "code",
   "execution_count": 17,
   "metadata": {},
   "outputs": [],
   "source": [
    "#salt[k,i] = salt[dz[k,i],i]\n",
    "#salt[10,30]"
   ]
  },
  {
   "cell_type": "code",
   "execution_count": 18,
   "metadata": {},
   "outputs": [],
   "source": [
    "#dz[0,0]=2\n",
    "#dz[0,:]"
   ]
  },
  {
   "cell_type": "code",
   "execution_count": 19,
   "metadata": {},
   "outputs": [
    {
     "data": {
      "text/plain": [
       "-4.281890791654587"
      ]
     },
     "execution_count": 19,
     "metadata": {},
     "output_type": "execute_result"
    }
   ],
   "source": [
    "dz[0,200]"
   ]
  },
  {
   "cell_type": "code",
   "execution_count": 20,
   "metadata": {},
   "outputs": [],
   "source": [
    "i = 45 ; j = 0"
   ]
  },
  {
   "cell_type": "code",
   "execution_count": 21,
   "metadata": {},
   "outputs": [
    {
     "name": "stdout",
     "output_type": "stream",
     "text": [
      "Analyze cross-section  22.5  km upstream of open boundary.\n"
     ]
    }
   ],
   "source": [
    "xcl = xc[i]\n",
    "xcr = xc[i+1]\n",
    "xci = 0.5 * ( xcl + xcr ) # average to U-point interface between center cells\n",
    "print( 'Analyze cross-section ', xci/1000, ' km upstream of open boundary.' )"
   ]
  },
  {
   "cell_type": "code",
   "execution_count": 22,
   "metadata": {},
   "outputs": [],
   "source": [
    "bathyl = bathy[i]\n",
    "bathyr = bathy[i+1]\n",
    "bathyi = 0.5 * ( bathyl + bathyr ) # average to U-point interface between center cells"
   ]
  },
  {
   "cell_type": "code",
   "execution_count": 23,
   "metadata": {},
   "outputs": [],
   "source": [
    "elevl = elev[:,i]\n",
    "elevr = elev[:,i+1]\n",
    "elevi = 0.25 * ( elevl[:-1] + elevl[1:] + elevr[:-1] + elevr[1:] ) # average in space and time"
   ]
  },
  {
   "cell_type": "code",
   "execution_count": 24,
   "metadata": {},
   "outputs": [],
   "source": [
    "Di = bathyi + elevi\n",
    "Di_mean = Di.mean()"
   ]
  },
  {
   "cell_type": "code",
   "execution_count": 25,
   "metadata": {},
   "outputs": [
    {
     "data": {
      "image/png": "[encoded data removed]",
      "text/plain": [
       "<Figure size 432x288 with 1 Axes>"
      ]
     },
     "metadata": {
      "needs_background": "light"
     },
     "output_type": "display_data"
    }
   ],
   "source": [
    "plt.plot( time , Di , label = 'water depth' )\n",
    "plt.hlines( Di_mean , xmin = time[0] , xmax = time[-1] , label = 'mean water depth' , color = 'k' )\n",
    "plt.legend()\n",
    "plt.show()"
   ]
  },
  {
   "cell_type": "code",
   "execution_count": 26,
   "metadata": {},
   "outputs": [],
   "source": [
    "u2d = u[:,i]"
   ]
  },
  {
   "cell_type": "code",
   "execution_count": 27,
   "metadata": {},
   "outputs": [
    {
     "name": "stdout",
     "output_type": "stream",
     "text": [
      "Mean depth-averaged velocity is <u2d> = -0.017449170351028442\n"
     ]
    }
   ],
   "source": [
    "u2d_mean = u2d.mean()\n",
    "print( 'Mean depth-averaged velocity is <u2d> =', u2d_mean )"
   ]
  },
  {
   "cell_type": "code",
   "execution_count": 28,
   "metadata": {},
   "outputs": [
    {
     "data": {
      "image/png": "[encoded data removed]",
      "text/plain": [
       "<Figure size 432x288 with 1 Axes>"
      ]
     },
     "metadata": {
      "needs_background": "light"
     },
     "output_type": "display_data"
    }
   ],
   "source": [
    "plt.plot( time , u2d , label = 'depth-averaged velocity' )\n",
    "plt.hlines( u2d_mean , xmin = time[0] , xmax = time[-1] , label = 'mean depth-averaged velocity' , color = 'k')\n",
    "plt.legend()\n",
    "plt.show()"
   ]
  },
  {
   "cell_type": "code",
   "execution_count": 29,
   "metadata": {},
   "outputs": [
    {
     "name": "stdout",
     "output_type": "stream",
     "text": [
      "First guess for mean depth-integrated transport is dy*<D>*<u2d> =  -111.63072684941255\n"
     ]
    }
   ],
   "source": [
    "Di_mean_u2d_mean = Di_mean * u2d_mean\n",
    "print( 'First guess for mean depth-integrated transport is dy*<D>*<u2d> = ', dy*Di_mean_u2d_mean )"
   ]
  },
  {
   "cell_type": "code",
   "execution_count": 30,
   "metadata": {},
   "outputs": [
    {
     "name": "stdout",
     "output_type": "stream",
     "text": [
      "Mean depth-integrated transport is dy*<D*u2d> = -51.95033550262451\n"
     ]
    }
   ],
   "source": [
    "Du2d = Di * u2d\n",
    "Du2d_mean = Du2d.mean()\n",
    "print( 'Mean depth-integrated transport is dy*<D*u2d> =', dy*Du2d_mean )"
   ]
  },
  {
   "cell_type": "code",
   "execution_count": 31,
   "metadata": {},
   "outputs": [
    {
     "data": {
      "image/png": "[encoded data removed]",
      "text/plain": [
       "<Figure size 432x288 with 1 Axes>"
      ]
     },
     "metadata": {
      "needs_background": "light"
     },
     "output_type": "display_data"
    }
   ],
   "source": [
    "plt.plot( time , Du2d , label = 'depth-integrated transport')\n",
    "plt.hlines( Du2d_mean , xmin = time[0] , xmax = time[-1] , label = 'mean depth-integrated transport' , color = 'k')\n",
    "plt.legend()\n",
    "plt.show()"
   ]
  },
  {
   "cell_type": "code",
   "execution_count": 32,
   "metadata": {},
   "outputs": [
    {
     "name": "stdout",
     "output_type": "stream",
     "text": [
      "Mean depth-integrated transport velocity is <D*u2d>/<D> = -0.008120436725286326\n",
      "Mean depth-averaged velocity is <u2d> = -0.017449170351028442\n"
     ]
    }
   ],
   "source": [
    "u2d_twa = Du2d_mean / Di_mean\n",
    "print( 'Mean depth-integrated transport velocity is <D*u2d>/<D> =', u2d_twa )\n",
    "print( 'Mean depth-averaged velocity is <u2d> =', u2d_mean )"
   ]
  },
  {
   "cell_type": "code",
   "execution_count": 33,
   "metadata": {},
   "outputs": [
    {
     "name": "stdout",
     "output_type": "stream",
     "text": [
      "First guess for Qin is dy*<(D*u2d)^+> = 1272.9873657226562\n",
      "First guess for Qout is -dy*<(D*u2d)^-> = 1324.9376841953822\n"
     ]
    }
   ],
   "source": [
    "Du2d_in  =  np.fmax( 0 , Du2d ) # only consider positive transports\n",
    "Du2d_out = -np.fmin( Du2d , 0 ) # only consider negative transports\n",
    "Du2d_in_mean  = Du2d_in.mean()\n",
    "Du2d_out_mean = Du2d_out.mean()\n",
    "print( 'First guess for Qin is dy*<(D*u2d)^+> =', dy*Du2d_in_mean )\n",
    "print( 'First guess for Qout is -dy*<(D*u2d)^-> =', dy*Du2d_out_mean )"
   ]
  },
  {
   "cell_type": "code",
   "execution_count": 34,
   "metadata": {},
   "outputs": [
    {
     "name": "stdout",
     "output_type": "stream",
     "text": [
      " dV/dt = 0.039554779996743075\n",
      " Qin - Qout + Qr = -1.950318472725911\n"
     ]
    }
   ],
   "source": [
    "t0 = time[ 0]\n",
    "t1 = time[-1]\n",
    "bathy1 = bathy[i+1:]\n",
    "elev0 = elev[ 0,i+1:]\n",
    "elev1 = elev[-1,i+1:]\n",
    "D0 = bathy1 + elev0\n",
    "D1 = bathy1 + elev1\n",
    "V0 = D0.sum() * dx * dy\n",
    "V1 = D1.sum() * dx * dy\n",
    "print(' dV/dt =', ( V1 - V0 ) / ( t1 - t0 ) )\n",
    "print(' Qin - Qout + Qr =', dy * ( Du2d_in_mean - Du2d_out_mean ) + 50 )"
   ]
  },
  {
   "cell_type": "code",
   "execution_count": null,
   "metadata": {},
   "outputs": [],
   "source": []
  },
  {
   "cell_type": "code",
   "execution_count": null,
   "metadata": {},
   "outputs": [],
   "source": []
  },
  {
   "cell_type": "code",
   "execution_count": null,
   "metadata": {},
   "outputs": [],
   "source": []
  }
 ],
 "metadata": {
  "kernelspec": {
   "display_name": "Python 3",
   "language": "python",
   "name": "python3"
  },
  "language_info": {
   "codemirror_mode": {
    "name": "ipython",
    "version": 3
   },
   "file_extension": ".py",
   "mimetype": "text/x-python",
   "name": "python",
   "nbconvert_exporter": "python",
   "pygments_lexer": "ipython3",
   "version": "3.8.5"
  }
 },
 "nbformat": 4,
 "nbformat_minor": 4
}
