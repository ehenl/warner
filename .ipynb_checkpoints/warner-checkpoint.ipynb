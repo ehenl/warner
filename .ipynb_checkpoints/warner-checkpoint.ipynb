{
 "cells": [
  {
   "cell_type": "markdown",
   "metadata": {},
   "source": [
    "# Load modules"
   ]
  },
  {
   "cell_type": "code",
   "execution_count": 97,
   "metadata": {
    "collapsed": true
   },
   "outputs": [],
   "source": [
    "import numpy as np\n",
    "import netCDF4\n",
    "import matplotlib.pyplot as plt"
   ]
  },
  {
   "cell_type": "markdown",
   "metadata": {},
   "source": [
    "# Load file with resolved tidal data"
   ]
  },
  {
   "cell_type": "code",
   "execution_count": 98,
   "metadata": {
    "collapsed": false
   },
   "outputs": [],
   "source": [
    "NC = netCDF4.Dataset('warner.3d.nc')\n",
    "time = NC.variables['time'][1:] # exclude initial tidal snapshot (avoid double-couting during tidal averaging)\n",
    "nmax = len(time)\n",
    "dx = NC.variables['dx'][:]\n",
    "dy = NC.variables['dy'][:]"
   ]
  },
  {
   "cell_type": "markdown",
   "metadata": {},
   "source": [
    "## Location of cross-section"
   ]
  },
  {
   "cell_type": "code",
   "execution_count": 99,
   "metadata": {
    "collapsed": true
   },
   "outputs": [],
   "source": [
    "i = 45 ; j = 0"
   ]
  },
  {
   "cell_type": "code",
   "execution_count": 100,
   "metadata": {
    "collapsed": false
   },
   "outputs": [
    {
     "name": "stdout",
     "output_type": "stream",
     "text": [
      "Analyze cross-section  22.5  km upstream of open boundary.\n"
     ]
    }
   ],
   "source": [
    "xcl = NC.variables['xc'][i]\n",
    "xcr = NC.variables['xc'][i+1]\n",
    "xi = 0.5 * ( xcl + xcr ) # average to U-point interface between center cells\n",
    "print( 'Analyze cross-section ', xi/1000, ' km upstream of open boundary.' )"
   ]
  },
  {
   "cell_type": "markdown",
   "metadata": {},
   "source": [
    "## Analyze water depth"
   ]
  },
  {
   "cell_type": "markdown",
   "metadata": {},
   "source": [
    "Read bathymetry (water depth below z=0):"
   ]
  },
  {
   "cell_type": "code",
   "execution_count": 101,
   "metadata": {
    "collapsed": true
   },
   "outputs": [],
   "source": [
    "bathyl = NC.variables['bathymetry'][j,i]\n",
    "bathyr = NC.variables['bathymetry'][j,i+1]\n",
    "bathyi = 0.5 * ( bathyl + bathyr ) # average to U-point interface between center cells"
   ]
  },
  {
   "cell_type": "markdown",
   "metadata": {},
   "source": [
    "Read time-varying sea surface elevation (water height above z=0):"
   ]
  },
  {
   "cell_type": "code",
   "execution_count": 102,
   "metadata": {
    "collapsed": true
   },
   "outputs": [],
   "source": [
    "elevl = NC.variables['elev'][:,j,i]\n",
    "elevr = NC.variables['elev'][:,j,i+1]\n",
    "elevi = 0.25 * ( elevl[:-1] + elevl[1:] + elevr[:-1] + elevr[1:] ) # average in space and time"
   ]
  },
  {
   "cell_type": "markdown",
   "metadata": {},
   "source": [
    "Calculate time-varying and mean water depth:"
   ]
  },
  {
   "cell_type": "code",
   "execution_count": 103,
   "metadata": {
    "collapsed": true
   },
   "outputs": [],
   "source": [
    "Di = bathyi + elevi\n",
    "Di_mean = Di.mean()"
   ]
  },
  {
   "cell_type": "markdown",
   "metadata": {},
   "source": [
    "Show in a plot:"
   ]
  },
  {
   "cell_type": "code",
   "execution_count": 104,
   "metadata": {
    "collapsed": false
   },
   "outputs": [
    {
     "data": {
      "image/png": "[encoded data removed]",
      "text/plain": [
       "<Figure size 432x288 with 1 Axes>"
      ]
     },
     "metadata": {},
     "output_type": "display_data"
    }
   ],
   "source": [
    "plt.plot( time , Di , label = 'water depth' )\n",
    "plt.hlines( Di_mean , xmin = time[0] , xmax = time[-1] , label = 'mean water depth' )\n",
    "plt.legend()\n",
    "plt.show()"
   ]
  },
  {
   "cell_type": "markdown",
   "metadata": {},
   "source": [
    "## Analyze depth-averaged velocity"
   ]
  },
  {
   "cell_type": "markdown",
   "metadata": {},
   "source": [
    "time-varying depth-averaged velocity:"
   ]
  },
  {
   "cell_type": "code",
   "execution_count": 105,
   "metadata": {
    "collapsed": true
   },
   "outputs": [],
   "source": [
    "u2d = NC.variables['u'][1:,j,i]"
   ]
  },
  {
   "cell_type": "code",
   "execution_count": 106,
   "metadata": {
    "collapsed": false
   },
   "outputs": [
    {
     "name": "stdout",
     "output_type": "stream",
     "text": [
      "Mean depth-averaged velocity is <u2d> = -0.017510591\n"
     ]
    }
   ],
   "source": [
    "u2d_mean = u2d.mean()\n",
    "print( 'Mean depth-averaged velocity is <u2d> =', u2d_mean )"
   ]
  },
  {
   "cell_type": "markdown",
   "metadata": {},
   "source": [
    "## Analyze depth-integrated transport"
   ]
  },
  {
   "cell_type": "code",
   "execution_count": 107,
   "metadata": {
    "collapsed": false
   },
   "outputs": [
    {
     "name": "stdout",
     "output_type": "stream",
     "text": [
      "First guess for mean depth-integrated transport is dy*<D>*<u2d> =  -112.02670633792877\n"
     ]
    }
   ],
   "source": [
    "Di_mean_u2d_mean = Di_mean * u2d_mean\n",
    "print( 'First guess for mean depth-integrated transport is dy*<D>*<u2d> = ', dy*Di_mean_u2d_mean )"
   ]
  },
  {
   "cell_type": "markdown",
   "metadata": {},
   "source": [
    "Q: Why does this value not reproduce the river input Qr=50 ???  \n",
    "A: Because we have to calculate `dy*<D*u2d>` !!!\n",
    "\n",
    "Calculate time-varying and mean depth-integrated transport:"
   ]
  },
  {
   "cell_type": "code",
   "execution_count": 108,
   "metadata": {
    "collapsed": false
   },
   "outputs": [
    {
     "name": "stdout",
     "output_type": "stream",
     "text": [
      "Mean depth-integrated transport is dy*<D*u2d> = -50.34038797020912\n"
     ]
    }
   ],
   "source": [
    "Du2d = Di * u2d\n",
    "Du2d_mean = Du2d.mean()\n",
    "print( 'Mean depth-integrated transport is dy*<D*u2d> =', dy*Du2d_mean )"
   ]
  },
  {
   "cell_type": "markdown",
   "metadata": {},
   "source": [
    "Q: Why is there still a deviation between `dy*<D*u2d>` and Qr ???  \n",
    "A: Slightly non-periodic model state"
   ]
  },
  {
   "cell_type": "markdown",
   "metadata": {},
   "source": [
    "## Define mean transport velocity"
   ]
  },
  {
   "cell_type": "code",
   "execution_count": 109,
   "metadata": {
    "collapsed": false
   },
   "outputs": [
    {
     "name": "stdout",
     "output_type": "stream",
     "text": [
      "Mean depth-integrated transport velocity is <D*u2d>/<D> = -0.00786857\n",
      "Mean depth-averaged velocity was <u2d> = -0.017510591\n"
     ]
    }
   ],
   "source": [
    "u2d_twa = Du2d_mean / Di_mean\n",
    "print( 'Mean depth-integrated transport velocity is <D*u2d>/<D> =', u2d_twa )\n",
    "print( 'Mean depth-averaged velocity was <u2d> =', u2d_mean )"
   ]
  },
  {
   "cell_type": "markdown",
   "metadata": {},
   "source": [
    "`u2d_twa = <D*u2d>/<D>` is the mean velocity consistent with the volume transport !!!"
   ]
  },
  {
   "cell_type": "markdown",
   "metadata": {},
   "source": [
    "## 2D guess for Qin and Qout"
   ]
  },
  {
   "cell_type": "code",
   "execution_count": 110,
   "metadata": {
    "collapsed": false
   },
   "outputs": [
    {
     "name": "stdout",
     "output_type": "stream",
     "text": [
      "2D guess for Qin  from tidally-averaged data is  dy*<D*u2d>^+ = 0.0\n",
      "2D guess for Qout from tidally-averaged data is -dy*<D*u2d>^- = 50.34038797020912\n"
     ]
    }
   ],
   "source": [
    "print( '2D guess for Qin  from tidally-averaged data is  dy*<D*u2d>^+ =',  np.fmax( 0 , Du2d_mean ) * dy ) # only consider positive transports\n",
    "print( '2D guess for Qout from tidally-averaged data is -dy*<D*u2d>^- =', -np.fmin( Du2d_mean , 0 ) * dy ) # only consider negative transports"
   ]
  },
  {
   "cell_type": "markdown",
   "metadata": {},
   "source": [
    "## Check volume balance"
   ]
  },
  {
   "cell_type": "code",
   "execution_count": 111,
   "metadata": {
    "collapsed": false,
    "scrolled": false
   },
   "outputs": [
    {
     "name": "stdout",
     "output_type": "stream",
     "text": [
      " dV/dt = -0.34038975302662167\n",
      " Qin - Qout + Qr = -0.3401756286621094\n"
     ]
    }
   ],
   "source": [
    "t0 = NC.variables['time'][ 0]\n",
    "t1 = NC.variables['time'][-1]\n",
    "bathy = NC.variables['bathymetry'][j,i+1:]\n",
    "elev0 = NC.variables['elev'][ 0,j,i+1:]\n",
    "elev1 = NC.variables['elev'][-1,j,i+1:]\n",
    "D0 = bathy + elev0\n",
    "D1 = bathy + elev1\n",
    "V0 = D0.sum() * dx * dy\n",
    "V1 = D1.sum() * dx * dy\n",
    "print(' dV/dt =', ( V1 - V0 ) / ( t1 - t0 ) )\n",
    "print(' Qin - Qout + Qr =', Qin_2d - Qout_2d + 50 )"
   ]
  },
  {
   "cell_type": "markdown",
   "metadata": {},
   "source": [
    "==> Slightly non-periodic state dV/dt<>0 (could be avoided by averaging over more tidal cycles) !!!  \n",
    "==> Volume balance is ok (single precision errors can be avoided with `-D_NCDF_SAVE_DOUBLE_`) !!!"
   ]
  },
  {
   "cell_type": "markdown",
   "metadata": {},
   "source": [
    "# Analyze depth-resolved data"
   ]
  },
  {
   "cell_type": "markdown",
   "metadata": {},
   "source": [
    "## Calculate layer heights and vertical positions"
   ]
  },
  {
   "cell_type": "code",
   "execution_count": 112,
   "metadata": {
    "collapsed": true
   },
   "outputs": [],
   "source": [
    "if 'h' in NC.variables.keys():\n",
    "    hl = NC.variables['h'][:,1:,j,i]\n",
    "    hr = NC.variables['h'][:,1:,j,i+1]\n",
    "    hi = 0.25 * ( hl[:-1,:] + hl[1:,:] + hr[:-1,:] + hr[1:,:] ) # average in space and time\n",
    "elif 'sigma' in NC.variables.keys():\n",
    "    sigma = NC.variables['sigma'][:]\n",
    "    hi = np.outer( Di , np.diff(sigma) )\n",
    "kmax = hi.shape[1]"
   ]
  },
  {
   "cell_type": "code",
   "execution_count": 113,
   "metadata": {
    "collapsed": false
   },
   "outputs": [],
   "source": [
    "zwi = np.insert( hi, 0, -bathyi, axis=1 ).cumsum(axis=1) # interface position\n",
    "zci = 0.5 * ( zwi[:,:-1] + zwi[:,1:] ) # center position"
   ]
  },
  {
   "cell_type": "markdown",
   "metadata": {},
   "source": [
    "## Analyze depth-resolved velocity"
   ]
  },
  {
   "cell_type": "code",
   "execution_count": 114,
   "metadata": {
    "collapsed": true
   },
   "outputs": [],
   "source": [
    "u3d = NC.variables['uu'][1:,1:,j,i]"
   ]
  },
  {
   "cell_type": "code",
   "execution_count": 115,
   "metadata": {
    "collapsed": false
   },
   "outputs": [
    {
     "data": {
      "image/png": "[encoded data removed]",
      "text/plain": [
       "<Figure size 432x288 with 1 Axes>"
      ]
     },
     "metadata": {},
     "output_type": "display_data"
    }
   ],
   "source": [
    "nmax = u3d.shape[0]\n",
    "nprofs = 8 # should be multiple of 4\n",
    "for n in range(nmax):\n",
    "    if not (n+1)%(nmax//nprofs): plt.plot(u3d[n,:],zci[n,:], label=str((n+1)//(nmax//nprofs)))\n",
    "plt.legend()    \n",
    "plt.show()"
   ]
  },
  {
   "cell_type": "markdown",
   "metadata": {},
   "source": [
    "### Mean depth-resolved velocity"
   ]
  },
  {
   "cell_type": "code",
   "execution_count": 116,
   "metadata": {
    "collapsed": true
   },
   "outputs": [],
   "source": [
    "u3d_mean = u3d.mean(axis=0)"
   ]
  },
  {
   "cell_type": "markdown",
   "metadata": {},
   "source": [
    "### Mean depth-resolved transport velocity"
   ]
  },
  {
   "cell_type": "code",
   "execution_count": 117,
   "metadata": {
    "collapsed": true
   },
   "outputs": [],
   "source": [
    "hu3d = hi * u3d\n",
    "hu3d_mean = hu3d.mean(axis=0)\n",
    "hi_mean = hi.mean(axis=0)\n",
    "u3d_twa = hu3d_mean / hi_mean"
   ]
  },
  {
   "cell_type": "code",
   "execution_count": 118,
   "metadata": {
    "collapsed": false
   },
   "outputs": [
    {
     "data": {
      "image/png": "[encoded data removed]",
      "text/plain": [
       "<Figure size 432x288 with 1 Axes>"
      ]
     },
     "metadata": {},
     "output_type": "display_data"
    },
    {
     "name": "stdout",
     "output_type": "stream",
     "text": [
      "dy*sum(<h>*<u3d>) = -112.02668428409898\n",
      "dy*sum(<h>*<u3d_twa>) = -50.34039056900846\n",
      "Mean depth-integrated transport was dy*<D*u2d> = -50.34038797020912\n"
     ]
    }
   ],
   "source": [
    "zci_mean = zci.mean(axis=0)\n",
    "plt.plot(u3d_mean, zci_mean, label='<u3d>')\n",
    "plt.plot(u3d_twa, zci_mean, label='u3d_twa')\n",
    "plt.legend()\n",
    "plt.show()\n",
    "print( 'dy*sum(<h>*<u3d>) =', dy * np.sum( hi_mean * u3d_mean ) )\n",
    "print( 'dy*sum(<h>*<u3d_twa>) =', dy * np.sum( hi_mean * u3d_twa ) )\n",
    "print( 'Mean depth-integrated transport was dy*<D*u2d> =', dy*Du2d_mean )"
   ]
  },
  {
   "cell_type": "markdown",
   "metadata": {},
   "source": [
    "==> `u3d_twa = <h*u3d>/<h>` is the mean depth-resolved velocity consistent with the volume transport !!!"
   ]
  },
  {
   "cell_type": "markdown",
   "metadata": {},
   "source": [
    "### 3D guess for Qin and Qout"
   ]
  },
  {
   "cell_type": "code",
   "execution_count": 119,
   "metadata": {
    "collapsed": false
   },
   "outputs": [
    {
     "name": "stdout",
     "output_type": "stream",
     "text": [
      "3D guess for Qin  from tidally-averaged data is  dy*sum( <h*u3d>^+ ) = 154.24356594426868\n",
      "3D guess for Qout from tidally-averaged data is -dy*sum( <h*u3d>^- ) = 204.58395651327714\n"
     ]
    }
   ],
   "source": [
    "print( '3D guess for Qin  from tidally-averaged data is  dy*sum( <h*u3d>^+ ) =',  np.sum( np.fmax( 0 , hu3d_mean ) ) * dy ) # only consider positive transports\n",
    "print( '3D guess for Qout from tidally-averaged data is -dy*sum( <h*u3d>^- ) =', -np.sum( np.fmin( hu3d_mean , 0 ) ) * dy ) # only consider negative transports"
   ]
  },
  {
   "cell_type": "markdown",
   "metadata": {},
   "source": [
    "The latter two estimates are denoted \"absolute transports\" in Lorenz et al. (2019, eq. (6))."
   ]
  },
  {
   "cell_type": "markdown",
   "metadata": {},
   "source": [
    "# Binning into salinity classes"
   ]
  },
  {
   "cell_type": "code",
   "execution_count": 120,
   "metadata": {
    "collapsed": true
   },
   "outputs": [],
   "source": [
    "salt = NC.variables['salt'][:-1,1:,j,i] #include initial, but exclude final state"
   ]
  },
  {
   "cell_type": "code",
   "execution_count": 121,
   "metadata": {
    "collapsed": true
   },
   "outputs": [],
   "source": [
    "nbins = 10\n",
    "smin = salt.min()-1e-10\n",
    "smax = salt.max()\n",
    "Si = np.linspace( smin , smax , nbins+1 )"
   ]
  },
  {
   "cell_type": "code",
   "execution_count": 122,
   "metadata": {
    "collapsed": false
   },
   "outputs": [],
   "source": [
    "h_s   = np.zeros((nmax,nbins+1))\n",
    "hu_s  = np.zeros((nmax,nbins+1))\n",
    "hus_s = np.zeros((nmax,nbins+1))\n",
    "for n in range(nmax):\n",
    "    for k in range(kmax):\n",
    "        bin = max( 0 , int( np.ceil( (salt[n,k]-Si[0])/(Si[nbins]-Si[0])*nbins ) ) )\n",
    "        if bin > nbins: continue\n",
    "        h_s  [n,bin] = h_s  [n,bin] + hi[n,k]\n",
    "        hu_s [n,bin] = hu_s [n,bin] + hi[n,k]*u3d[n,k]\n",
    "        hus_s[n,bin] = hus_s[n,bin] + hi[n,k]*u3d[n,k]*salt[n,k]"
   ]
  },
  {
   "cell_type": "code",
   "execution_count": 123,
   "metadata": {
    "collapsed": false
   },
   "outputs": [],
   "source": [
    "h_s_mean   = h_s.mean(axis=0)\n",
    "hu_s_mean  = hu_s.mean(axis=0)\n",
    "hus_s_mean = hus_s.mean(axis=0)\n",
    "u_s_twa = np.zeros_like(h_s_mean)\n",
    "np.divide( hu_s_mean , h_s_mean , out = u_s_twa , where = (h_s_mean > 0) ) ;"
   ]
  },
  {
   "cell_type": "code",
   "execution_count": 124,
   "metadata": {
    "collapsed": true
   },
   "outputs": [],
   "source": [
    "S_s = 0.5 * ( Si[:-1] + Si[1:] )"
   ]
  },
  {
   "cell_type": "code",
   "execution_count": 125,
   "metadata": {
    "collapsed": false
   },
   "outputs": [
    {
     "data": {
      "image/png": "[encoded data removed]",
      "text/plain": [
       "<Figure size 432x288 with 1 Axes>"
      ]
     },
     "metadata": {},
     "output_type": "display_data"
    },
    {
     "name": "stdout",
     "output_type": "stream",
     "text": [
      "dy*sum(hu_s_mean) = -50.3403905690086\n"
     ]
    }
   ],
   "source": [
    "plt.plot(u_s_twa[1:], S_s)\n",
    "plt.gca().invert_yaxis()\n",
    "plt.show()\n",
    "print( 'dy*sum(hu_s_mean) =' , dy*hu_s_mean.sum() )"
   ]
  },
  {
   "cell_type": "markdown",
   "metadata": {},
   "source": [
    "## Calculate Qin and Qout"
   ]
  },
  {
   "cell_type": "markdown",
   "metadata": {},
   "source": [
    "### sign method (MacCready 2011 eq. (3.3) and Lorenz et al. 2019 eq. (5))"
   ]
  },
  {
   "cell_type": "code",
   "execution_count": 126,
   "metadata": {
    "collapsed": false
   },
   "outputs": [
    {
     "name": "stdout",
     "output_type": "stream",
     "text": [
      "isohaline guess for Qin  from tidally-averaged data is  dy*sum( <hu_s>^+ ) = 87.27034416375179\n",
      "isohaline guess for Qout from tidally-averaged data is -dy*sum( <hu_s>^- ) = 137.6107347327604\n"
     ]
    }
   ],
   "source": [
    "print( 'isohaline guess for Qin  from tidally-averaged data is  dy*sum( <hu_s>^+ ) =',  np.sum( np.fmax( 0 , hu_s_mean ) ) * dy )\n",
    "print( 'isohaline guess for Qout from tidally-averaged data is -dy*sum( <hu_s>^- ) =', -np.sum( np.fmin( hu_s_mean , 0 ) ) * dy )"
   ]
  },
  {
   "cell_type": "markdown",
   "metadata": {},
   "source": [
    "The former two estimates correspond to .\n",
    "### minmax method / dividing salinity method (MacCready 2018 appendix and Lorenz et al. 2019 eq. (7))"
   ]
  },
  {
   "cell_type": "code",
   "execution_count": 127,
   "metadata": {
    "collapsed": false
   },
   "outputs": [
    {
     "name": "stdout",
     "output_type": "stream",
     "text": [
      "isohaline guess for Qin  from tidally-averaged data is  87.27034416375179\n",
      "isohaline guess for Qout from tidally-averaged data is  137.6107347327604\n"
     ]
    }
   ],
   "source": [
    "M_le_s = hu_s_mean.cumsum()\n",
    "Si_idx = M_le_s.argmin()\n",
    "Qout = -M_le_s.min() * dy\n",
    "Qin  = M_le_s[-1]*dy + Qout\n",
    "print( 'isohaline guess for Qin  from tidally-averaged data is ', Qin  )\n",
    "print( 'isohaline guess for Qout from tidally-averaged data is ', Qout )"
   ]
  }
 ],
 "metadata": {
  "kernelspec": {
   "display_name": "Python 3",
   "language": "python",
   "name": "python3"
  },
  "language_info": {
   "codemirror_mode": {
    "name": "ipython",
    "version": 3
   },
   "file_extension": ".py",
   "mimetype": "text/x-python",
   "name": "python",
   "nbconvert_exporter": "python",
   "pygments_lexer": "ipython3",
   "version": "3.5.3"
  }
 },
 "nbformat": 4,
 "nbformat_minor": 2
}
