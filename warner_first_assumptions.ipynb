{
 "cells": [
  {
   "cell_type": "markdown",
   "metadata": {},
   "source": [
    "# 1. Preps"
   ]
  },
  {
   "cell_type": "code",
   "execution_count": 1,
   "metadata": {},
   "outputs": [],
   "source": [
    "def sigma_S_section(S,S_B,sigma,Q_in,Q_out,M,Nt,Ni,xA,xB,mean,AB='False'):\n",
    "    '''\n",
    "    This function plots a sigma-salinity-section either at a chosen x and a constant step in time, or at chosen x but taking the mean over all timesteps.\n",
    "    The variables consist of:\n",
    "    S - salinity\n",
    "    sigma - depth in sigma coordinates\n",
    "    Nt, Ni - index of respectively chosen step in time and chosen x\n",
    "    mean - set to True if you plot the salinity as \n",
    "    '''\n",
    "    fig, ax = plt.subplots()\n",
    "    ax.plot(S,sigma,color='green', marker='o', linestyle='dashed',linewidth=2, markersize=6,label='A')\n",
    "    ax.grid() \n",
    "    textstr = '\\n'.join((\n",
    "        r'$Q_{in}'+f' = {Q_in:.1f} '+r'm^3 s^{-1}$',\n",
    "        r'$Q_{out}'+f' = {Q_out:.1f} '+r'm^3 s^{-1}$',\n",
    "        f'M = {M:.1f} '+r' $m^3 s^{-1} '+r'(g kg^{-1})^2$'))\n",
    "    props = dict(boxstyle='round', facecolor='moccasin', alpha=.6)\n",
    "    ax.text(0.03, 0.5, textstr, transform=ax.transAxes, fontsize=14, color='k',\n",
    "            verticalalignment='top', bbox=props)\n",
    "    if mean==True:\n",
    "        ax.set(xlabel='S [g kg-1]', ylabel='sigma',title='Ni = '+str(Ni))\n",
    "        plt.savefig('./figs/sigma_s_Mean_'+str(Ni)+'.png',dpi=140, facecolor='w', edgecolor='w',\n",
    "                    orientation='landscape',transparent=False, bbox_inches='tight', pad_inches=0.1)\n",
    "        if AB==True:\n",
    "            ax.plot(S_B,sigma,color='blue', marker='o', linestyle='dashed',linewidth=2, markersize=6,label='B')\n",
    "            ax.legend()   \n",
    "            ax.set(xlabel='S [g kg-1]', ylabel='sigma',title='A: '+str(xA)+', B: '+str(xB))\n",
    "            plt.savefig('./figs/sigma_s_AB_'+str(Ni)+'.png',dpi=140, facecolor='w', edgecolor='w',\n",
    "                        orientation='landscape',transparent=False, bbox_inches='tight', pad_inches=0.1)\n",
    "    if mean==False:\n",
    "        ax.set(xlabel='S [g kg-1]', ylabel='sigma',title='Nt, Ni = '+str(Nt)+', '+str(Ni))\n",
    "        plt.savefig('./figs/sigma_s_'+str(Nt)+'_'+str(Ni)+'.png',dpi=140, facecolor='w', edgecolor='w',\n",
    "                    orientation='landscape',transparent=False, bbox_inches='tight', pad_inches=0.1)"
   ]
  },
  {
   "cell_type": "markdown",
   "metadata": {},
   "source": [
    "## 1.1 Import packages"
   ]
  },
  {
   "cell_type": "code",
   "execution_count": 2,
   "metadata": {},
   "outputs": [],
   "source": [
    "import numpy as np\n",
    "import matplotlib.pyplot as plt\n",
    "import netCDF4"
   ]
  },
  {
   "cell_type": "markdown",
   "metadata": {},
   "source": [
    "## 1.2 Pre-set parameters for plotting"
   ]
  },
  {
   "cell_type": "code",
   "execution_count": 3,
   "metadata": {},
   "outputs": [],
   "source": [
    "plt.rcParams.update({\n",
    "    \"font.weight\": \"normal\",\n",
    "    \"xtick.labelsize\": 15,\n",
    "    \"ytick.labelsize\": 15,\n",
    "    \"lines.color\": \"k\",\n",
    "    \"axes.titlesize\": 18,\n",
    "    \"axes.titleweight\": \"normal\",\n",
    "    \"axes.labelweight\": \"bold\",\n",
    "    \"axes.labelsize\": 18,\n",
    "    \"contour.linewidth\": 0.8\n",
    "})"
   ]
  },
  {
   "cell_type": "markdown",
   "metadata": {},
   "source": [
    "## 1.3 Equations"
   ]
  },
  {
   "cell_type": "markdown",
   "metadata": {},
   "source": [
    "#### The Knudsen relations (Knudsen, 1900) are defined as:\n",
    "\n",
    "$Q_{in} = \\frac{s_{out}}{s_{in}-s_{out}} Q_{riv}$\n",
    "\n",
    "$Q_{out} = - \\frac{s_{in}}{s_{in}-s_{out}} Q_{riv}$\n",
    "\n",
    "#### MacCready et al. (2011) derived an expression for the mixing $M$ which goes as follows:\n",
    "\n",
    "$M = s_{in} s_{out} Q_{riv}$"
   ]
  },
  {
   "cell_type": "markdown",
   "metadata": {},
   "source": [
    "# 2. Open datasets and extract variables"
   ]
  },
  {
   "cell_type": "code",
   "execution_count": 4,
   "metadata": {},
   "outputs": [],
   "source": [
    "path_file = '/home/henell/WORK/tools/GETM/setups/warner/warner.3d.nc'\n",
    "id_file = netCDF4.Dataset(path_file, 'r')\n",
    "\n",
    "xc    = id_file.variables['xc'][:]\n",
    "time  = id_file.variables['time'][:]\n",
    "sigma = id_file.variables['sigma'][:]\n",
    "salt  = id_file.variables['salt'][:,:,0,:]\n",
    "Q_riv = 50. # river discharge [m3 s-1]"
   ]
  },
  {
   "cell_type": "code",
   "execution_count": 5,
   "metadata": {},
   "outputs": [
    {
     "data": {
      "text/plain": [
       "(113, 41, 201)"
      ]
     },
     "execution_count": 5,
     "metadata": {},
     "output_type": "execute_result"
    }
   ],
   "source": [
    "np.shape(salt)"
   ]
  },
  {
   "cell_type": "markdown",
   "metadata": {},
   "source": [
    "# 3. Calculations"
   ]
  },
  {
   "cell_type": "markdown",
   "metadata": {},
   "source": [
    "# 3.1 First tests\n",
    "#### I assume that at the sigma index twenty ($sigma=20$), the channel is divided into an upper and lower layer. Above we have the inflow $Q,_{in}$ with $s,_{in}$, and below we have the outflow $Q,_{out}$ with $s,_{out}$.\n",
    "#### For first tests, we choose a step in time and a specific x section."
   ]
  },
  {
   "cell_type": "code",
   "execution_count": 6,
   "metadata": {},
   "outputs": [],
   "source": [
    "Nt = 10\n",
    "Ni = 50\n",
    "salt_Knudsen = salt[Nt,:,Ni]"
   ]
  },
  {
   "cell_type": "code",
   "execution_count": 7,
   "metadata": {},
   "outputs": [
    {
     "name": "stdout",
     "output_type": "stream",
     "text": [
      "\n",
      " Shape of the domain Nk =  41\n",
      "\n",
      "\n"
     ]
    }
   ],
   "source": [
    "Nk = np.shape(salt_Knudsen[:])\n",
    "Nk = ''.join(map(str, Nk))\n",
    "print('\\n Shape of the domain Nk = ',Nk)\n",
    "print('\\n')"
   ]
  },
  {
   "cell_type": "code",
   "execution_count": 8,
   "metadata": {},
   "outputs": [
    {
     "name": "stdout",
     "output_type": "stream",
     "text": [
      "\n",
      " s_in = 22.12 g kg -1\n",
      "\n",
      " s_out = 18.89 g kg -1\n"
     ]
    }
   ],
   "source": [
    "Nk_mid = 20\n",
    "s_in   = np.mean(salt_Knudsen[:Nk_mid])\n",
    "s_out  = np.mean(salt_Knudsen[Nk_mid+1:])\n",
    "print('\\n s_in = '+str(round(s_in,2))+' g kg -1')\n",
    "print('\\n s_out = '+str(round(s_out,2))+' g kg -1')"
   ]
  },
  {
   "cell_type": "markdown",
   "metadata": {},
   "source": [
    "#### We write down our equations for the Knudsen values and the mixing $M$:"
   ]
  },
  {
   "cell_type": "code",
   "execution_count": 9,
   "metadata": {},
   "outputs": [],
   "source": [
    "Q_in  = s_out / ( s_in - s_out ) * Q_riv\n",
    "Q_out = - s_in / ( s_in - s_out ) * Q_riv\n",
    "M     = s_in * s_out * Q_riv\n",
    "Mc    = - Q_in / Q_out"
   ]
  },
  {
   "cell_type": "markdown",
   "metadata": {},
   "source": [
    "#### For our case we thus find:"
   ]
  },
  {
   "cell_type": "code",
   "execution_count": 10,
   "metadata": {},
   "outputs": [
    {
     "name": "stdout",
     "output_type": "stream",
     "text": [
      "Q_in  = 292.47 m3 s-1\n",
      "Q_out = -342.47 m3 s-1\n",
      "M     = 20895.79 m3 s-1 (g kg -1)**2\n",
      "Mc    = 85.4%\n"
     ]
    }
   ],
   "source": [
    "print('Q_in  = '+str(round(Q_in,2))+' m3 s-1')\n",
    "print('Q_out = '+str(round(Q_out,2))+' m3 s-1')\n",
    "print('M     = '+str(round(M,2))+' m3 s-1 (g kg -1)**2')\n",
    "print('Mc    = '+str(round(Mc*100,2))+'%')"
   ]
  },
  {
   "cell_type": "code",
   "execution_count": 11,
   "metadata": {},
   "outputs": [
    {
     "data": {
      "image/png": "[encoded data removed]",
      "text/plain": [
       "<Figure size 432x288 with 1 Axes>"
      ]
     },
     "metadata": {
      "needs_background": "light"
     },
     "output_type": "display_data"
    }
   ],
   "source": [
    "sigma_S_section(salt_Knudsen,salt_Knudsen,sigma,Q_in,Q_out,M,Nt,Ni,Nk_mid,Nk_mid,False)"
   ]
  },
  {
   "cell_type": "markdown",
   "metadata": {},
   "source": [
    "# 3.2 Mean over time"
   ]
  },
  {
   "cell_type": "markdown",
   "metadata": {},
   "source": [
    "#### Now, we take a look at specific x sections, but we take the mean over time."
   ]
  },
  {
   "cell_type": "code",
   "execution_count": 12,
   "metadata": {},
   "outputs": [],
   "source": [
    "saltM = np.mean(salt[:,:,Ni],0)"
   ]
  },
  {
   "cell_type": "code",
   "execution_count": 13,
   "metadata": {},
   "outputs": [
    {
     "name": "stdout",
     "output_type": "stream",
     "text": [
      "\n",
      " s_in = 22.79 g kg -1\n",
      "\n",
      " s_out = 20.65 g kg -1\n"
     ]
    }
   ],
   "source": [
    "sM_in   = np.mean(np.mean(salt[:,:Nk_mid,Ni],0))\n",
    "sM_out  = np.mean(np.mean(salt[:,Nk_mid+1:,Ni],0))\n",
    "print('\\n s_in = '+str(round(sM_in,2))+' g kg -1')\n",
    "print('\\n s_out = '+str(round(sM_out,2))+' g kg -1')"
   ]
  },
  {
   "cell_type": "code",
   "execution_count": 14,
   "metadata": {},
   "outputs": [],
   "source": [
    "QM_in  = sM_out / ( sM_in - sM_out ) * Q_riv\n",
    "QM_out = - sM_in / ( sM_in - sM_out ) * Q_riv\n",
    "MM     = sM_in * sM_out * Q_riv\n",
    "McM    = - QM_in / QM_out"
   ]
  },
  {
   "cell_type": "markdown",
   "metadata": {},
   "source": [
    "#### For this 2nd case we find:"
   ]
  },
  {
   "cell_type": "code",
   "execution_count": 15,
   "metadata": {},
   "outputs": [
    {
     "name": "stdout",
     "output_type": "stream",
     "text": [
      "Q_in  = 483.1 m3 s-1\n",
      "Q_out = -533.1 m3 s-1\n",
      "M     = 23536.44 m3 s-1 (g kg -1)**2\n",
      "Mc    = 90.62%\n"
     ]
    }
   ],
   "source": [
    "print('Q_in  = '+str(round(QM_in,2))+' m3 s-1')\n",
    "print('Q_out = '+str(round(QM_out,2))+' m3 s-1')\n",
    "print('M     = '+str(round(MM,2))+' m3 s-1 (g kg -1)**2')\n",
    "print('Mc    = '+str(round(McM*100,2))+'%')"
   ]
  },
  {
   "cell_type": "code",
   "execution_count": 16,
   "metadata": {},
   "outputs": [
    {
     "data": {
      "image/png": "[encoded data removed]",
      "text/plain": [
       "<Figure size 432x288 with 1 Axes>"
      ]
     },
     "metadata": {
      "needs_background": "light"
     },
     "output_type": "display_data"
    }
   ],
   "source": [
    "sigma_S_section(saltM,saltM,sigma,QM_in,QM_out,MM,Nt,Ni,Nk_mid,Nk_mid,True)"
   ]
  },
  {
   "cell_type": "markdown",
   "metadata": {},
   "source": [
    "# 3.3 Mean over time and taking two x sections into account\n",
    "#### Here I follow Eq. (12) in Burchard et al. (2018) which calculates $s_{in}$ and $s_{out}$ based on the two cross-sections $A$ and $B$:\n",
    "\n",
    "$s_{in} = \\frac{ Q_{in}^{A}s_{in}^{A} + Q_{in}^{B}s_{in}^{B} }{ Q_{in}^{A} + Q_{in}^{B} }$\n",
    "\n",
    "$s_{out} = \\frac{ Q_{out}^{A}s_{out}^{A} + Q_{out}^{B}s_{out}^{B} }{ Q_{out}^{A} + Q_{out}^{B} }$"
   ]
  },
  {
   "cell_type": "code",
   "execution_count": 17,
   "metadata": {},
   "outputs": [],
   "source": [
    "xA = 25\n",
    "xB = 100\n",
    "saltM_A = np.mean(salt[:,:,xA],0)\n",
    "saltM_B = np.mean(salt[:,:,xB],0)"
   ]
  },
  {
   "cell_type": "code",
   "execution_count": 18,
   "metadata": {},
   "outputs": [
    {
     "name": "stdout",
     "output_type": "stream",
     "text": [
      "\n",
      " s_inA = 27.61 g kg -1\n",
      "\n",
      " s_outA = 25.49 g kg -1\n",
      "\n",
      " s_inB = 8.26 g kg -1\n",
      "\n",
      " s_outB = 6.6 g kg -1\n"
     ]
    }
   ],
   "source": [
    "sM_inA   = np.mean(saltM_A[:Nk_mid])\n",
    "sM_outA  = np.mean(saltM_A[Nk_mid+1:])\n",
    "sM_inB   = np.mean(saltM_B[:Nk_mid])\n",
    "sM_outB  = np.mean(saltM_B[Nk_mid+1:])\n",
    "print('\\n s_inA = '+str(round(sM_inA,2))+' g kg -1')\n",
    "print('\\n s_outA = '+str(round(sM_outA,2))+' g kg -1')\n",
    "print('\\n s_inB = '+str(round(sM_inB,2))+' g kg -1')\n",
    "print('\\n s_outB = '+str(round(sM_outB,2))+' g kg -1')"
   ]
  },
  {
   "cell_type": "code",
   "execution_count": 19,
   "metadata": {},
   "outputs": [],
   "source": [
    "QM_inA  = sM_outA / ( sM_inA - sM_outA ) * Q_riv\n",
    "QM_outA = - sM_inA / ( sM_inA - sM_outA ) * Q_riv\n",
    "QM_inB  = sM_outB / ( sM_inB - sM_outB ) * Q_riv\n",
    "QM_outB = - sM_inB / ( sM_inB - sM_outB ) * Q_riv"
   ]
  },
  {
   "cell_type": "code",
   "execution_count": 20,
   "metadata": {},
   "outputs": [],
   "source": [
    "# For the plot\n",
    "QM_inAB  = ( QM_inA + QM_inB ) / 2\n",
    "QM_outAB = ( QM_outA + QM_outB ) / 2"
   ]
  },
  {
   "cell_type": "code",
   "execution_count": 21,
   "metadata": {},
   "outputs": [],
   "source": [
    "sM_inAB  = ( QM_inA * sM_inA + QM_inB * sM_inB ) / ( QM_inA + QM_inB )\n",
    "sM_outAB = ( QM_outA * sM_outA + QM_outB * sM_outB ) / ( QM_outA + QM_outB )"
   ]
  },
  {
   "cell_type": "code",
   "execution_count": 22,
   "metadata": {},
   "outputs": [],
   "source": [
    "QM_riv = - ( QM_inA + QM_inB + QM_outA + QM_outB )\n",
    "MM_AB     = sM_inAB * sM_outAB * QM_riv\n",
    "#McM_AB    = - Q_in / Q_out"
   ]
  },
  {
   "cell_type": "code",
   "execution_count": 23,
   "metadata": {},
   "outputs": [
    {
     "name": "stdout",
     "output_type": "stream",
     "text": [
      "\n",
      " s_in  = 22.82 g kg -1\n",
      "\n",
      " s_out = 20.29 g kg -1\n",
      "\n",
      " M     = 46286.41 m3 s-1 (g kg -1)**2\n"
     ]
    }
   ],
   "source": [
    "print('\\n s_in  = '+str(round(sM_inAB,2))+' g kg -1')\n",
    "print('\\n s_out = '+str(round(sM_outAB,2))+' g kg -1')\n",
    "print('\\n M     = '+str(round(MM_AB,2))+' m3 s-1 (g kg -1)**2')"
   ]
  },
  {
   "cell_type": "code",
   "execution_count": 24,
   "metadata": {},
   "outputs": [
    {
     "data": {
      "image/png": "[encoded data removed]",
      "text/plain": [
       "<Figure size 432x288 with 1 Axes>"
      ]
     },
     "metadata": {
      "needs_background": "light"
     },
     "output_type": "display_data"
    }
   ],
   "source": [
    "sigma_S_section(saltM_A,saltM_B,sigma,QM_inAB,QM_outAB,MM_AB,Nt,Ni,xA,xB,True,True)"
   ]
  }
 ],
 "metadata": {
  "kernelspec": {
   "display_name": "Python 3",
   "language": "python",
   "name": "python3"
  },
  "language_info": {
   "codemirror_mode": {
    "name": "ipython",
    "version": 3
   },
   "file_extension": ".py",
   "mimetype": "text/x-python",
   "name": "python",
   "nbconvert_exporter": "python",
   "pygments_lexer": "ipython3",
   "version": "3.8.5"
  }
 },
 "nbformat": 4,
 "nbformat_minor": 4
}
