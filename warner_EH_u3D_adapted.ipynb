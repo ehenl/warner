{
 "cells": [
  {
   "cell_type": "markdown",
   "metadata": {},
   "source": [
    "# 0. Preps"
   ]
  },
  {
   "cell_type": "markdown",
   "metadata": {},
   "source": [
    "### 0.1 Load modules"
   ]
  },
  {
   "cell_type": "code",
   "execution_count": 1,
   "metadata": {},
   "outputs": [],
   "source": [
    "import numpy as np\n",
    "import matplotlib.pyplot as plt\n",
    "import netCDF4\n",
    "import brewer2mpl\n",
    "import seaborn as sns\n",
    "bmap = brewer2mpl.get_map('Set1', 'qualitative', 8)\n",
    "colors = bmap.mpl_colors"
   ]
  },
  {
   "cell_type": "markdown",
   "metadata": {},
   "source": [
    "### 0.2 Pre-set parameters for plotting"
   ]
  },
  {
   "cell_type": "code",
   "execution_count": 2,
   "metadata": {},
   "outputs": [],
   "source": [
    "plt.rcParams.update({\n",
    "    \"font.weight\": \"normal\",\n",
    "    \"xtick.labelsize\": 15,\n",
    "    \"ytick.labelsize\": 15,\n",
    "    \"lines.color\": \"k\",\n",
    "    \"axes.titlesize\": 18,\n",
    "    \"axes.titleweight\": \"normal\",\n",
    "    \"axes.labelweight\": \"bold\",\n",
    "    \"axes.labelsize\": 18,\n",
    "    \"legend.fontsize\": 14\n",
    "})"
   ]
  },
  {
   "cell_type": "markdown",
   "metadata": {},
   "source": [
    "### 0.3 Plotting function"
   ]
  },
  {
   "cell_type": "code",
   "execution_count": 3,
   "metadata": {},
   "outputs": [],
   "source": [
    "def basic_plot(time,var,varM,label,xi,v_file,depth=False):\n",
    "    '''\n",
    "    This function plots a chosen variable as a function of time,\n",
    "    and the variable's mean.\n",
    "    _____________________________________________________________________\n",
    "    \n",
    "    time   ---> distance along x-axis\n",
    "    var    ---> chosen variable \n",
    "    varM   ---> mean of chosen variable\n",
    "    label  ---> specify label for legend\n",
    "    xi     ---> location of cross-section\n",
    "    v_file ---> specify if 2D or 3D velocity file\n",
    "    _____________________________________________________________________\n",
    "    '''\n",
    "    #sns.set()                                                                            # set seaborn grid\n",
    "    fig, ax  = plt.subplots(figsize=(6,4))                                                # plot fig with one subplot\n",
    "    ax.plot  (time,var,label=label,color=colors[0],lw=4)                                  # plot the chosen variable as fct of time\n",
    "    ax.hlines(varM,xmin=time[0],xmax=time[-1],label='mean '+label,color=colors[1],lw=4)   # plot the mean of the chosen variable\n",
    "    ax.legend(loc=1)                                                                      # add legend and specify its location\n",
    "    ax.grid()\n",
    "    if depth==False:\n",
    "        ax.set(title='Cross-section at i = '+str(xi/1000)+' km; '+v_file,xlabel='time [s]',ylabel='[m]')\n",
    "    if depth==True:\n",
    "        ax.set(title='Cross-section at i = '+str(xi/1000)+' km',xlabel='time [s]',ylabel='[m]')"
   ]
  },
  {
   "cell_type": "markdown",
   "metadata": {},
   "source": [
    "### 0.4 Load file with resolved tidal data"
   ]
  },
  {
   "cell_type": "code",
   "execution_count": 4,
   "metadata": {},
   "outputs": [],
   "source": [
    "path_file = '/home/henell/WORK/tools/GETM/setups/warner/warner.3d_upd2.nc'    # location of file\n",
    "id_file   = netCDF4.Dataset(path_file, 'r')                                   # read file"
   ]
  },
  {
   "cell_type": "markdown",
   "metadata": {},
   "source": [
    "### 0.5 Location of cross-section"
   ]
  },
  {
   "cell_type": "code",
   "execution_count": 5,
   "metadata": {},
   "outputs": [],
   "source": [
    "i = 45 ; j = 0"
   ]
  },
  {
   "cell_type": "code",
   "execution_count": 6,
   "metadata": {},
   "outputs": [],
   "source": [
    "time  = id_file.variables['time'][1:]         # [s]; exclude initial tidal snapshot (avoid double-counting during tidal averaging)\n",
    "dx    = id_file.variables['dx'][:]            # grid spacing (x) [m]\n",
    "dy    = id_file.variables['dy'][:]            # grid spacing (y) [m]"
   ]
  },
  {
   "cell_type": "markdown",
   "metadata": {},
   "source": [
    "# 1. 2D Caluclations: analyze depth-averaged data"
   ]
  },
  {
   "cell_type": "markdown",
   "metadata": {},
   "source": [
    "## 1.1 Analyze water depth"
   ]
  },
  {
   "cell_type": "code",
   "execution_count": 7,
   "metadata": {},
   "outputs": [
    {
     "name": "stdout",
     "output_type": "stream",
     "text": [
      "\n",
      " Analyze cross-section  22.5  km upstream of open boundary.\n"
     ]
    }
   ],
   "source": [
    "xcl = id_file.variables['xc'][i]                  # xc [m] @ center of the cell (LHS) \n",
    "xcr = id_file.variables['xc'][i+1]                # xc [m] @ center of the cell (RHS)\n",
    "xi  = 0.5 * ( xcl + xcr )                         # average to U-point interface between center cells\n",
    "print( '\\n Analyze cross-section ',\n",
    "      xi/1000, ' km upstream of open boundary.' )"
   ]
  },
  {
   "cell_type": "code",
   "execution_count": 8,
   "metadata": {},
   "outputs": [],
   "source": [
    "bathyl = id_file.variables['bathymetry'][j,i]    # bathymetry (H) [m] @ center of the cell (LHS) \n",
    "bathyr = id_file.variables['bathymetry'][j,i+1]  # bathymetry (H) [m] @ center of the cell (RHS) \n",
    "bathyi = 0.5 * ( bathyl + bathyr )               # average to U-point interface between center cells"
   ]
  },
  {
   "cell_type": "code",
   "execution_count": 9,
   "metadata": {},
   "outputs": [],
   "source": [
    "elevl = id_file.variables['elev'][:,j,i]                             # elevation (eta) [m] @ center of the cell (LHS) \n",
    "elevr = id_file.variables['elev'][:,j,i+1]                           # elevation (eta) [m] @ center of the cell (RHS) \n",
    "elevi = 0.25 * ( elevl[:-1] + elevl[1:] + elevr[:-1] + elevr[1:] )   # average in space and time"
   ]
  },
  {
   "cell_type": "code",
   "execution_count": 10,
   "metadata": {},
   "outputs": [],
   "source": [
    "Di      = bathyi + elevi     # time-varying water depth\n",
    "Di_mean = Di.mean()          # mean water depth"
   ]
  },
  {
   "cell_type": "code",
   "execution_count": 11,
   "metadata": {},
   "outputs": [
    {
     "data": {
      "image/png": "[encoded data removed]",
      "text/plain": [
       "<Figure size 432x288 with 1 Axes>"
      ]
     },
     "metadata": {
      "needs_background": "light"
     },
     "output_type": "display_data"
    }
   ],
   "source": [
    "basic_plot(time,Di,Di_mean,'water depth',xi,'u2D',depth=True)"
   ]
  },
  {
   "cell_type": "markdown",
   "metadata": {},
   "source": [
    "### 1.2 Analyze depth-averaged velocity"
   ]
  },
  {
   "cell_type": "code",
   "execution_count": 12,
   "metadata": {},
   "outputs": [
    {
     "name": "stdout",
     "output_type": "stream",
     "text": [
      "Mean depth-averaged velocity is <u2d> =-0.01744459 ms-1\n"
     ]
    }
   ],
   "source": [
    "u2d      = id_file.variables[ 'u'][1:,j,i]                    # time-varying depth-averaged velocity [m/s]\n",
    "u2d_mean = u2d.mean()                                         # mean depth-averaged velocity [m/s]\n",
    "print( 'Mean depth-averaged velocity is <u2d> ='+str(u2d_mean)+' ms-1')"
   ]
  },
  {
   "cell_type": "code",
   "execution_count": 13,
   "metadata": {},
   "outputs": [],
   "source": [
    "#basic_plot(time,u2d,u2d_mean,'depth-averaged velocity',xi,'u2D')"
   ]
  },
  {
   "cell_type": "markdown",
   "metadata": {},
   "source": [
    "### 1.3 Analyze depth-integrated transport"
   ]
  },
  {
   "cell_type": "code",
   "execution_count": 14,
   "metadata": {},
   "outputs": [
    {
     "name": "stdout",
     "output_type": "stream",
     "text": [
      "First guess for mean depth-integrated transport is dy*<D>*<u2d> = -111.60142719745636 m3s-1\n"
     ]
    }
   ],
   "source": [
    "Di_mean_u2d_mean = Di_mean * u2d_mean                                            # mean depth-integrated transport from 2D u-field\n",
    "print( 'First guess for mean depth-integrated transport is dy*<D>*<u2d> = '+\n",
    "      str(dy*Di_mean_u2d_mean)+' m3s-1')"
   ]
  },
  {
   "cell_type": "markdown",
   "metadata": {},
   "source": [
    "### Calculating $dy  <D \\cdot u2d >$"
   ]
  },
  {
   "cell_type": "code",
   "execution_count": 15,
   "metadata": {},
   "outputs": [
    {
     "name": "stdout",
     "output_type": "stream",
     "text": [
      "Mean depth-integrated transport is dy * < D*u2d > =-49.96088519692421 m3s-1\n"
     ]
    }
   ],
   "source": [
    "Du2d      = Di * u2d                                                             # time-varying depth-integrated transport from 2D u-field\n",
    "Du2d_mean = Du2d.mean()                                                          # mean depth-integrated transport from 2D u-field\n",
    "print( 'Mean depth-integrated transport is dy * < D*u2d > ='+\n",
    "      str(dy*Du2d_mean)+' m3s-1')"
   ]
  },
  {
   "cell_type": "code",
   "execution_count": 16,
   "metadata": {},
   "outputs": [],
   "source": [
    "#basic_plot(time,Du2d,Du2d_mean,'depth-integrated transport',xi,'u2D')"
   ]
  },
  {
   "cell_type": "markdown",
   "metadata": {},
   "source": [
    "### 1.4 Define mean transport velocity"
   ]
  },
  {
   "cell_type": "code",
   "execution_count": 17,
   "metadata": {},
   "outputs": [
    {
     "name": "stdout",
     "output_type": "stream",
     "text": [
      "Mean depth-integrated transport velocity is <D*u2d>/<D> =-0.0078094625 ms-1\n",
      "Mean depth-averaged velocity is                   <u2d> =-0.01744459 ms-1\n"
     ]
    }
   ],
   "source": [
    "u2d_twa = Du2d_mean / Di_mean\n",
    "print( 'Mean depth-integrated transport velocity is <D*u2d>/<D> ='+str(u2d_twa)+' ms-1')\n",
    "print( 'Mean depth-averaged velocity is                   <u2d> ='+str(u2d_mean)+' ms-1')"
   ]
  },
  {
   "cell_type": "markdown",
   "metadata": {},
   "source": [
    "### 1.5 2D guess for Q$_{in}$ and Q$_{out}$"
   ]
  },
  {
   "cell_type": "code",
   "execution_count": 18,
   "metadata": {},
   "outputs": [],
   "source": [
    "#########################################################################################\n",
    "# We are not interested in this way of averaging over the positive and negative transport \n",
    "# since what we want to look at is the positive and negative transport averaged over the \n",
    "# whole time period.\n",
    "#########################################################################################\n",
    "\n",
    "#Du2d_in  =  np.fmax( 0 , Du2d )                               # only consider positive transports\n",
    "#Du2d_out = -np.fmin( Du2d , 0 )                               # only consider negative transports\n",
    "#Qin_2d   = Du2d_in.mean() * dy\n",
    "#Qout_2d  = Du2d_out.mean() * dy\n",
    "#print( 'First guess for Qin is   dy*<(D*u2d)^+> =', Qin_2d )\n",
    "#print( 'First guess for Qout is -dy*<(D*u2d)^-> =', Qout_2d )"
   ]
  },
  {
   "cell_type": "code",
   "execution_count": 19,
   "metadata": {},
   "outputs": [
    {
     "name": "stdout",
     "output_type": "stream",
     "text": [
      "2D guess for Qin  from tidally-averaged data is  dy*<D*u2d>^+ =0.0 m3s-1\n",
      "2D guess for Qout from tidally-averaged data is -dy*<D*u2d>^- =49.96088519692421 m3s-1\n"
     ]
    }
   ],
   "source": [
    "print( '2D guess for Qin  from tidally-averaged data is  dy*<D*u2d>^+ ='+str(np.fmax( 0 , Du2d_mean ) * dy)+' m3s-1')        # only consider positive transports\n",
    "print( '2D guess for Qout from tidally-averaged data is -dy*<D*u2d>^- ='+str(-np.fmin( Du2d_mean , 0 ) * dy)+' m3s-1')       # only consider negative transports"
   ]
  },
  {
   "cell_type": "markdown",
   "metadata": {},
   "source": [
    "### 1.6 Check volume balance"
   ]
  },
  {
   "cell_type": "code",
   "execution_count": 20,
   "metadata": {},
   "outputs": [
    {
     "name": "stdout",
     "output_type": "stream",
     "text": [
      " dV/dt =0.039201612318200726 m3s-1\n",
      " Qin - Qout + Qr =0.039114803075790405 m3s-1\n"
     ]
    }
   ],
   "source": [
    "t0     = id_file.variables['time'][ 0]\n",
    "t1     = id_file.variables['time'][-1]\n",
    "bathy1 = id_file.variables['bathymetry'][j,i+1:]\n",
    "elev0  = id_file.variables['elev'][ 0,j,i+1:]\n",
    "elev1  = id_file.variables['elev'][-1,j,i+1:]\n",
    "D0     = bathy1 + elev0\n",
    "D1     = bathy1 + elev1\n",
    "V0     = D0.sum() * dx * dy\n",
    "V1     = D1.sum() * dx * dy\n",
    "print(' dV/dt ='+str(( V1 - V0 ) / ( t1 - t0 ))+' m3s-1')\n",
    "print(' Qin - Qout + Qr ='+str(np.fmax( 0 , Du2d_mean ) * dy - (-np.fmin( Du2d_mean , 0 ) * dy) + 50)+' m3s-1' )  #### averaging no. 1\n",
    "#print(' Qin - Qout + Qr =', Qin_2d - Qout_2d + 50 )                                                              #### averaging no. 2"
   ]
  },
  {
   "cell_type": "markdown",
   "metadata": {},
   "source": [
    "==> Slightly non-periodic state dV/dt<>0 (could be avoided by averaging over more tidal cycles) !!!  \n",
    "==> Volume balance is ok (single precision errors can be avoided with `-D_NCDF_SAVE_DOUBLE_`) !!!"
   ]
  },
  {
   "cell_type": "markdown",
   "metadata": {},
   "source": [
    "# 2. 3D Calculations: analyze depth-resolved data"
   ]
  },
  {
   "cell_type": "markdown",
   "metadata": {},
   "source": [
    "### 2.1 Calculate layer heights and vertical positions"
   ]
  },
  {
   "cell_type": "code",
   "execution_count": 21,
   "metadata": {},
   "outputs": [],
   "source": [
    "if 'h' in id_file.variables.keys():                                 # if h is a variable in the opened file\n",
    "    hl = id_file.variables['h'][:,1:,j,i]\n",
    "    hr = id_file.variables['h'][:,1:,j,i+1]\n",
    "    hi = 0.25 * ( hl[:-1,:] + hl[1:,:] + hr[:-1,:] + hr[1:,:] )     # average in space and time\n",
    "elif 'sigma' in id_file.variables.keys():                           # if sigma is a variable in the opened file\n",
    "    sigma = id_file.variables['sigma'][:]\n",
    "    hi    = np.outer( Di , np.diff(sigma) )\n",
    "else:                                                               # if neither h nor sigma is a variable in the opened file\n",
    "    kmax = u3d.shape[1]                                             # max depth index\n",
    "    hi   = np.outer( Di , np.ones(kmax) / kmax )                    # assume equidistant sigma coordinates\n",
    "kmax = hi.shape[1]"
   ]
  },
  {
   "cell_type": "code",
   "execution_count": 22,
   "metadata": {},
   "outputs": [],
   "source": [
    "zwi = np.insert( hi, 0, -bathyi, axis=1 ).cumsum(axis=1)            # interface position\n",
    "zci = 0.5 * ( zwi[:,:-1] + zwi[:,1:] )                              # center position"
   ]
  },
  {
   "cell_type": "markdown",
   "metadata": {},
   "source": [
    "### 2.2 Analyze depth-resolved velocity"
   ]
  },
  {
   "cell_type": "code",
   "execution_count": 23,
   "metadata": {},
   "outputs": [],
   "source": [
    "u3d = id_file.variables['uu'][1:,1:,j,i]"
   ]
  },
  {
   "cell_type": "code",
   "execution_count": 24,
   "metadata": {},
   "outputs": [
    {
     "data": {
      "image/png": "[encoded data removed]",
      "text/plain": [
       "<Figure size 432x288 with 1 Axes>"
      ]
     },
     "metadata": {
      "needs_background": "light"
     },
     "output_type": "display_data"
    }
   ],
   "source": [
    "nmax = u3d.shape[0]                          # max time index\n",
    "nprofs = 8 # should be multiple of 4         # ?\n",
    "for n in range(nmax):\n",
    "    if not (n+1)%(nmax//nprofs): plt.plot(u3d[n,:],zci[n,:],lw=2,label=str((n+1)//(nmax//nprofs)))\n",
    "plt.legend()\n",
    "plt.grid()\n",
    "plt.xlabel('u3d')\n",
    "plt.ylabel('zci')\n",
    "plt.show()"
   ]
  },
  {
   "cell_type": "markdown",
   "metadata": {},
   "source": [
    "### 2.3 Mean depth-resolved velocity"
   ]
  },
  {
   "cell_type": "code",
   "execution_count": 25,
   "metadata": {},
   "outputs": [],
   "source": [
    "u3d_mean = u3d.mean(axis=0)      # averaging over time"
   ]
  },
  {
   "cell_type": "markdown",
   "metadata": {},
   "source": [
    "### 2.4 Mean depth-resolved transport velocity"
   ]
  },
  {
   "cell_type": "code",
   "execution_count": 26,
   "metadata": {},
   "outputs": [],
   "source": [
    "hu3d      = hi * u3d               # product of hi with u3d, still time-varying and depth-resolving     \n",
    "hu3d_mean = hu3d.mean(axis=0)      # average of product h with u3d along time: <h*u3d>\n",
    "hi_mean   = hi.mean(axis=0)        # average of layer thickness hi in time \n",
    "u3d_twa   = hu3d_mean / hi_mean    # weighted average velocity = <h*u3d> / <h>"
   ]
  },
  {
   "cell_type": "code",
   "execution_count": 27,
   "metadata": {},
   "outputs": [
    {
     "data": {
      "image/png": "[encoded data removed]",
      "text/plain": [
       "<Figure size 432x288 with 1 Axes>"
      ]
     },
     "metadata": {
      "needs_background": "light"
     },
     "output_type": "display_data"
    },
    {
     "name": "stdout",
     "output_type": "stream",
     "text": [
      "dy*sum(<h>*<u3d>)                              = -111.6014640603555 m3s-1\n",
      "dy*sum(<h>*<u3d_twa>)                          = -49.960799128203135 m3s-1\n",
      "Mean depth-integrated transport was dy*<D*u2d> = -49.96088519692421 m3s-1\n"
     ]
    }
   ],
   "source": [
    "zci_mean = zci.mean(axis=0)\n",
    "plt.plot(u3d_mean,zci_mean,label='<u3d>',  color=colors[0],lw=2)\n",
    "plt.plot(u3d_twa, zci_mean,label='u3d_twa',color=colors[1],lw=2)\n",
    "plt.legend()\n",
    "plt.grid()\n",
    "plt.show()\n",
    "print( 'dy*sum(<h>*<u3d>)                              = '+str(dy * np.sum( hi_mean * u3d_mean ))+' m3s-1')\n",
    "print( 'dy*sum(<h>*<u3d_twa>)                          = '+str(dy * np.sum( hi_mean * u3d_twa ))+' m3s-1')\n",
    "print( 'Mean depth-integrated transport was dy*<D*u2d> = '+str(dy*Du2d_mean)+' m3s-1')"
   ]
  },
  {
   "cell_type": "markdown",
   "metadata": {},
   "source": [
    "==> `u3d_twa = <h*u3d>/<h>` is the mean depth-resolved velocity consistent with the volume transport !!!"
   ]
  },
  {
   "cell_type": "markdown",
   "metadata": {},
   "source": [
    "### 2.5 3D guess for Q$_{in}$ and Q$_{out}$"
   ]
  },
  {
   "cell_type": "code",
   "execution_count": 28,
   "metadata": {},
   "outputs": [],
   "source": [
    "#########################################################################################\n",
    "# We are not interested in this way of averaging over the positive and negative transport \n",
    "# since what we want to look at is the positive and negative transport averaged over the \n",
    "# whole time period.\n",
    "#########################################################################################\n",
    "\n",
    "#hu3d_in  =  np.fmax( 0 , hu3d )                                        # only consider positive transports\n",
    "#hu3d_out = -np.fmin( hu3d , 0 )                                        # only consider negative transports\n",
    "#Qin_3d   = hu3d_in. sum(axis=1).mean() * dy\n",
    "#Qout_3d  = hu3d_out.sum(axis=1).mean() * dy\n",
    "#print( '3D guess for Qin is   dy*<sum( (h*u3d)^+ )> =', Qin_3d )\n",
    "#print( '3D guess for Qout is -dy*<sum( (h*u3d)^- )> =', Qout_3d )\n",
    "#print( 'Qin - Qout =', Qin_3d - Qout_3d)\n",
    "#print( '2D guess for Qin was         dy*<(D*u2d)^+> =', Qin_2d )\n",
    "#print( '2D guess for Qout was       -dy*<(D*u2d)^-> =', Qout_2d )"
   ]
  },
  {
   "cell_type": "code",
   "execution_count": 29,
   "metadata": {},
   "outputs": [
    {
     "name": "stdout",
     "output_type": "stream",
     "text": [
      "2D guess for Qin  from tidally-averaged data is         dy*<D*u2d>^+ = 0.0 m3s-1\n",
      "2D guess for Qout from tidally-averaged data is        -dy*<D*u2d>^- = 49.96088519692421 m3s-1\n",
      "3D guess for Qin  from tidally-averaged data is  dy*sum( <h*u3d>^+ ) = 152.3470942983925 m3s-1\n",
      "3D guess for Qout from tidally-averaged data is -dy*sum( <h*u3d>^- ) = 202.3078934265956 m3s-1\n"
     ]
    }
   ],
   "source": [
    "print( '2D guess for Qin  from tidally-averaged data is         dy*<D*u2d>^+ = '+str(np.fmax( 0 , Du2d_mean ) * dy)+' m3s-1')            # only consider positive transports\n",
    "print( '2D guess for Qout from tidally-averaged data is        -dy*<D*u2d>^- = '+str(-np.fmin( Du2d_mean , 0 ) * dy)+' m3s-1')           # only consider negative transports\n",
    "print( '3D guess for Qin  from tidally-averaged data is  dy*sum( <h*u3d>^+ ) = '+str(np.sum( np.fmax( 0 , hu3d_mean ) ) * dy)+' m3s-1')  # only consider positive transports\n",
    "print( '3D guess for Qout from tidally-averaged data is -dy*sum( <h*u3d>^- ) = '+str(-np.sum( np.fmin( hu3d_mean , 0 ) ) * dy)+' m3s-1') # only consider negative transports"
   ]
  },
  {
   "cell_type": "markdown",
   "metadata": {},
   "source": [
    "We are interested in the Q$_{in}$ and Q$_{out}$ values where we first average and then choose the positive values, i.e. $< x >^+$ and not $< x^+>$. This gives us the average inflow and outflow over the whole time period."
   ]
  },
  {
   "cell_type": "markdown",
   "metadata": {},
   "source": [
    "# 3 Binning into salt classes"
   ]
  },
  {
   "cell_type": "code",
   "execution_count": 30,
   "metadata": {},
   "outputs": [],
   "source": [
    "salt = id_file.variables['salt'][:-1,1:,j,i]      # salinity [gkg-1]"
   ]
  },
  {
   "cell_type": "code",
   "execution_count": 31,
   "metadata": {},
   "outputs": [
    {
     "name": "stdout",
     "output_type": "stream",
     "text": [
      "[11.62690258 13.01780272 14.40870285 15.79960299 17.19050312 18.58140326\n",
      " 19.97230339 21.36320353 22.75410366 24.1450038  25.53590393]\n"
     ]
    }
   ],
   "source": [
    "nbins = 10                                        # number of bins\n",
    "Smin  = salt.min() - 1e-10                        # minimum salinity\n",
    "Smax  = salt.max()                                # maximum salinity\n",
    "Si    = np.linspace( Smin , Smax , nbins+1 )      # interface position\n",
    "S_s   = 0.5 * ( Si[:-1] + Si[1:] )                # center position\n",
    "print(Si)"
   ]
  },
  {
   "cell_type": "code",
   "execution_count": 32,
   "metadata": {},
   "outputs": [],
   "source": [
    "h_s   = np.zeros( (nmax,nbins+1) )\n",
    "hu_s  = np.zeros( (nmax,nbins+1) )\n",
    "hus_s = np.zeros( (nmax,nbins+1) )\n",
    "for n in range(nmax):                                                                   # loop over range of max time index\n",
    "    for k in range(kmax):                                                               # loop over range of max depth index\n",
    "        bin = max( 0 , int( np.ceil( (salt[n,k]-Si[0])/(Si[nbins]-Si[0])*nbins ) ) )    \n",
    "        if bin > nbins: continue\n",
    "        h_s  [n,bin] = h_s  [n,bin] + hi[n,k]                                           # h binned into salt classes\n",
    "        hu_s [n,bin] = hu_s [n,bin] + hi[n,k]*u3d[n,k]                                  # h*u binned into salt classes\n",
    "        hus_s[n,bin] = hus_s[n,bin] + hi[n,k]*u3d[n,k]*salt[n,k]                        # h*u*s binned into salt classes"
   ]
  },
  {
   "cell_type": "markdown",
   "metadata": {},
   "source": [
    "### 3.1 Calculating the weighted average velocity"
   ]
  },
  {
   "cell_type": "code",
   "execution_count": 33,
   "metadata": {},
   "outputs": [],
   "source": [
    "h_s_mean   = h_s.  mean(axis=0)                 # average over time: <h_s>\n",
    "hu_s_mean  = hu_s. mean(axis=0)                 #    -  same  -    : <hu_s>\n",
    "hus_s_mean = hus_s.mean(axis=0)                 #    -  same  -    : <hus_s>  "
   ]
  },
  {
   "cell_type": "code",
   "execution_count": 34,
   "metadata": {},
   "outputs": [],
   "source": [
    "u_s_twa    = np.zeros_like(h_s_mean)            # return an array of zeros with the same shape and type as h_s_mean\n",
    "np.divide(hu_s_mean,h_s_mean,                   # return a true division of the inputs hu_s_mean and h_s_mean\n",
    "          out=u_s_twa,where=(h_s_mean > 0));    # thus returns the weighted average velocity binned into salt classes: u_s_twa"
   ]
  },
  {
   "cell_type": "code",
   "execution_count": 35,
   "metadata": {},
   "outputs": [
    {
     "name": "stdout",
     "output_type": "stream",
     "text": [
      "\n",
      " The weighted average velocity binned into salt classes u_s_twa = \n",
      "\n",
      " [ 0.         -0.36865879 -0.33506702 -0.26783413 -0.10192635 -0.17421776\n",
      " -0.03589898 -0.01951669  0.00484852  0.02798799  0.01528308]\n"
     ]
    }
   ],
   "source": [
    "print('\\n The weighted average velocity binned into salt classes u_s_twa = ');print('\\n',u_s_twa)"
   ]
  },
  {
   "cell_type": "code",
   "execution_count": 36,
   "metadata": {},
   "outputs": [
    {
     "name": "stdout",
     "output_type": "stream",
     "text": [
      "\n",
      " dy*sum(hu_s_mean) = -49.96079912820323\n"
     ]
    },
    {
     "data": {
      "image/png": "[encoded data removed]",
      "text/plain": [
       "<Figure size 432x288 with 1 Axes>"
      ]
     },
     "metadata": {
      "needs_background": "light"
     },
     "output_type": "display_data"
    }
   ],
   "source": [
    "fig, ax = plt.subplots(figsize=(6,4))\n",
    "ax.plot(u_s_twa[1:],S_s,lw=3,color=colors[0],label='u_s_twa')\n",
    "ax.invert_yaxis()\n",
    "ax.vlines(0,ymin=S_s[0],ymax=S_s[-1],lw=3,ls='--',color=colors[1])\n",
    "ax.grid()\n",
    "ax.set(xlabel='velocity [ms$^{-1}$]',ylabel='salinity [gkg$^{-1}$]')\n",
    "ax.legend(loc=3)\n",
    "print('\\n dy*sum(hu_s_mean) =' , dy*hu_s_mean.sum())"
   ]
  },
  {
   "cell_type": "markdown",
   "metadata": {},
   "source": [
    "### 3.2 Calculating the salt fluxes"
   ]
  },
  {
   "cell_type": "markdown",
   "metadata": {},
   "source": [
    "(((-----------------------"
   ]
  },
  {
   "cell_type": "code",
   "execution_count": 37,
   "metadata": {},
   "outputs": [
    {
     "name": "stderr",
     "output_type": "stream",
     "text": [
      "<ipython-input-37-6329909a6c91>:2: RuntimeWarning: invalid value encountered in true_divide\n",
      "  np.divide(hus_s_mean,h_s_mean,out=Q_s_twa);\n"
     ]
    }
   ],
   "source": [
    "Q_s_twa = np.zeros_like(hus_s_mean)\n",
    "np.divide(hus_s_mean,h_s_mean,out=Q_s_twa);\n",
    "Q_s_twa[np.isnan(Q_s_twa)] = 0"
   ]
  },
  {
   "cell_type": "code",
   "execution_count": 38,
   "metadata": {},
   "outputs": [],
   "source": [
    "Q_s_twa_out = - Q_s_twa.min() * dy.data\n",
    "Q_s_twa_in  = Q_s_twa[-1]*dy.data + (- Q_s_twa.min() * dy.data)"
   ]
  },
  {
   "cell_type": "code",
   "execution_count": 39,
   "metadata": {},
   "outputs": [
    {
     "name": "stdout",
     "output_type": "stream",
     "text": [
      "Q_s_twa_in  = 2536.7657262913344 m3s-1gkg-1\n",
      "Q_s_twa_out = 2350.9958143920894 m3s-1gkg-1\n"
     ]
    }
   ],
   "source": [
    "print('Q_s_twa_in  = '+str(Q_s_twa_in)+' m3s-1gkg-1')\n",
    "print('Q_s_twa_out = '+str(Q_s_twa_out)+' m3s-1gkg-1')"
   ]
  },
  {
   "cell_type": "markdown",
   "metadata": {},
   "source": [
    "-----------------------)))"
   ]
  },
  {
   "cell_type": "code",
   "execution_count": 40,
   "metadata": {},
   "outputs": [
    {
     "name": "stdout",
     "output_type": "stream",
     "text": [
      "isohaline guess for Fin  from tidally-averaged data is = 2003.0631678092116 m3s-1gkg-1\n",
      "isohaline guess for Fout from tidally-averaged data is = 2092.9655902932204 m3s-1gkg-1\n"
     ]
    }
   ],
   "source": [
    "M_salt_le_s = hus_s_mean.cumsum()\n",
    "Fout   = -M_salt_le_s.min() * dy\n",
    "Fin    = M_salt_le_s[-1]*dy + Fout\n",
    "print( 'isohaline guess for Fin  from tidally-averaged data is = '+str(Fin)+' m3s-1gkg-1')\n",
    "print( 'isohaline guess for Fout from tidally-averaged data is = '+str(Fout)+' m3s-1gkg-1')"
   ]
  },
  {
   "cell_type": "code",
   "execution_count": 41,
   "metadata": {},
   "outputs": [],
   "source": [
    "#fig, ax = plt.subplots(figsize=(6,4))\n",
    "#ax.plot(Q_s_twa_in[1:] ,S_s,lw=3,color=colors[0],label='Q_s_twa_in')\n",
    "#ax.plot(Q_s_twa_out[1:],S_s,lw=3,color=colors[1],label='Q_s_twa_out')\n",
    "#ax.invert_yaxis()\n",
    "#ax.grid()\n",
    "#ax.set(xlabel='salt flux',ylabel='salinity [gkg$^{-1}$]')\n",
    "#ax.legend(loc=1)\n",
    "#print('\\n dy*sum(hus_s_mean) =' , dy*hus_s_mean.sum())"
   ]
  },
  {
   "cell_type": "markdown",
   "metadata": {},
   "source": [
    "### 3.3 Calculate Q$_{in}$ and Q$_{out}$"
   ]
  },
  {
   "cell_type": "markdown",
   "metadata": {},
   "source": [
    "### 3.3.1 Sign method"
   ]
  },
  {
   "cell_type": "markdown",
   "metadata": {},
   "source": [
    "##### (MacCready 2011 eq. (3.3) and Lorenz et al. 2019 eq. (5))"
   ]
  },
  {
   "cell_type": "code",
   "execution_count": 42,
   "metadata": {},
   "outputs": [
    {
     "name": "stdout",
     "output_type": "stream",
     "text": [
      "isohaline guess for Qin  from tidally-averaged data is  dy*sum( <hu_s>^+ ) = 83.6804593231267 m3s-1\n",
      "isohaline guess for Qout from tidally-averaged data is -dy*sum( <hu_s>^- ) = 133.64125845132992 m3s-1\n"
     ]
    }
   ],
   "source": [
    "print( 'isohaline guess for Qin  from tidally-averaged data is  dy*sum( <hu_s>^+ ) = '+str( np.sum( np.fmax( 0 , hu_s_mean ) ) * dy)+' m3s-1')\n",
    "print( 'isohaline guess for Qout from tidally-averaged data is -dy*sum( <hu_s>^- ) = '+str(-np.sum( np.fmin( hu_s_mean , 0 ) ) * dy)+' m3s-1')"
   ]
  },
  {
   "cell_type": "code",
   "execution_count": 43,
   "metadata": {},
   "outputs": [
    {
     "name": "stdout",
     "output_type": "stream",
     "text": [
      "This corresponds to a difference of: 49.96079912820322 m3s-1\n"
     ]
    }
   ],
   "source": [
    "print('This corresponds to a difference of: '+str(-np.sum( np.fmin( hu_s_mean , 0 ) ) * dy - np.sum( np.fmax( 0 , hu_s_mean ) ) * dy)+' m3s-1')"
   ]
  },
  {
   "cell_type": "markdown",
   "metadata": {},
   "source": [
    "The former two 3D estimates correspond to:"
   ]
  },
  {
   "cell_type": "code",
   "execution_count": 44,
   "metadata": {},
   "outputs": [
    {
     "name": "stdout",
     "output_type": "stream",
     "text": [
      "3D guess for Qin  from tidally-averaged data is  dy*sum( <h*u3d>^+ ) = 152.3470942983925 m3s-1\n",
      "3D guess for Qout from tidally-averaged data is -dy*sum( <h*u3d>^- ) = 202.3078934265956 m3s-1\n"
     ]
    }
   ],
   "source": [
    "print('3D guess for Qin  from tidally-averaged data is  dy*sum( <h*u3d>^+ ) = '+str(np.sum( np.fmax( 0 , hu3d_mean ) ) * dy)+' m3s-1')  # only consider positive transports\n",
    "print('3D guess for Qout from tidally-averaged data is -dy*sum( <h*u3d>^- ) = '+str(-np.sum( np.fmin( hu3d_mean , 0 ) ) * dy)+' m3s-1') # only consider negative transports"
   ]
  },
  {
   "cell_type": "code",
   "execution_count": 45,
   "metadata": {},
   "outputs": [
    {
     "name": "stdout",
     "output_type": "stream",
     "text": [
      "... which corresponds to a difference of: 49.96079912820309 m3s-1\n"
     ]
    }
   ],
   "source": [
    "print('... which corresponds to a difference of: '+str(-np.sum( np.fmin( hu3d_mean , 0 ) ) * dy - np.sum( np.fmax( 0 , hu3d_mean ) ) * dy)+' m3s-1')"
   ]
  },
  {
   "cell_type": "markdown",
   "metadata": {},
   "source": [
    "### 3.3.2 Dividing salinity or minmax method"
   ]
  },
  {
   "cell_type": "markdown",
   "metadata": {},
   "source": [
    "##### (MacCready 2018 appendix and Lorenz et al. 2019 eq. (7))"
   ]
  },
  {
   "cell_type": "code",
   "execution_count": 46,
   "metadata": {},
   "outputs": [
    {
     "name": "stdout",
     "output_type": "stream",
     "text": [
      "isohaline guess for Qin  from tidally-averaged data is 83.68045932312668 m3s-1\n",
      "isohaline guess for Qout from tidally-averaged data is 133.64125845132995 m3s-1\n"
     ]
    }
   ],
   "source": [
    "M_le_s = hu_s_mean.cumsum()\n",
    "Si_idx = M_le_s.argmin()\n",
    "Qout   = -M_le_s.min() * dy\n",
    "Qin    = M_le_s[-1]*dy + Qout\n",
    "print( 'isohaline guess for Qin  from tidally-averaged data is '+str(Qin)+' m3s-1')\n",
    "print( 'isohaline guess for Qout from tidally-averaged data is '+str(Qout)+' m3s-1')"
   ]
  },
  {
   "cell_type": "code",
   "execution_count": 47,
   "metadata": {},
   "outputs": [
    {
     "name": "stdout",
     "output_type": "stream",
     "text": [
      "... which corresponds to a difference of: 49.96079912820326 m3s-1\n"
     ]
    }
   ],
   "source": [
    "print('... which corresponds to a difference of: '+str(Qout - Qin)+' m3s-1')"
   ]
  },
  {
   "cell_type": "markdown",
   "metadata": {},
   "source": [
    "### Summary:"
   ]
  },
  {
   "cell_type": "code",
   "execution_count": 48,
   "metadata": {},
   "outputs": [
    {
     "name": "stdout",
     "output_type": "stream",
     "text": [
      "\n",
      " Sign method: \n",
      " Binning into salt classes: Qout - Qin = 49.96079912820322 m3s-1\n",
      " 3D estimates:              Qout - Qin = 49.96079912820309 m3s-1\n",
      "\n",
      " Minmax method: \n",
      " Binning into salt classes: Qout - Qin = 49.96079912820326 m3s-1\n"
     ]
    }
   ],
   "source": [
    "print('\\n Sign method: ')\n",
    "print(' Binning into salt classes: Qout - Qin = '+str(-np.sum( np.fmin( hu_s_mean , 0 ) ) * dy - np.sum( np.fmax( 0 , hu_s_mean ) ) * dy)+' m3s-1')\n",
    "print(' 3D estimates:              Qout - Qin = '+str(-np.sum( np.fmin( hu3d_mean , 0 ) ) * dy - np.sum( np.fmax( 0 , hu3d_mean ) ) * dy)+' m3s-1')\n",
    "print('\\n Minmax method: ')\n",
    "print(' Binning into salt classes: Qout - Qin = '+str(Qout - Qin)+' m3s-1')"
   ]
  },
  {
   "cell_type": "markdown",
   "metadata": {},
   "source": [
    "### 3.4 Calculating $s_{in}$ and $s_{out}$"
   ]
  },
  {
   "cell_type": "code",
   "execution_count": 49,
   "metadata": {},
   "outputs": [
    {
     "name": "stdout",
     "output_type": "stream",
     "text": [
      "\n",
      " S_in  = 23.93704795613648 gkg-1\n",
      "\n",
      " S_out = 15.661073642579067 gkg-1\n"
     ]
    }
   ],
   "source": [
    "### inflowing salt  =  (inflowing salt flux) / (inflowing volume flux)\n",
    "### outflowing salt = (outflowing salt flux) / (outflowing volume flux)\n",
    "### Calculation with the volume fluxes calculated using the dividing salinity/minmax method \n",
    "### since this method converges even for a higher number of salt classes.\n",
    "\n",
    "S_in  = Fin  / Qin\n",
    "S_out = Fout / Qout\n",
    "print('\\n S_in  = '+str(S_in)+' gkg-1')\n",
    "print('\\n S_out = '+str(S_out)+' gkg-1')"
   ]
  },
  {
   "cell_type": "raw",
   "metadata": {},
   "source": [
    "s_in  = Q_s_twa_in  / Qin\n",
    "s_out = Q_s_twa_out / Qout\n",
    "print('\\n s_in = ',s_in)\n",
    "print('\\n s_out = ',s_out)"
   ]
  }
 ],
 "metadata": {
  "kernelspec": {
   "display_name": "Python 3",
   "language": "python",
   "name": "python3"
  },
  "language_info": {
   "codemirror_mode": {
    "name": "ipython",
    "version": 3
   },
   "file_extension": ".py",
   "mimetype": "text/x-python",
   "name": "python",
   "nbconvert_exporter": "python",
   "pygments_lexer": "ipython3",
   "version": "3.8.5"
  }
 },
 "nbformat": 4,
 "nbformat_minor": 4
}
