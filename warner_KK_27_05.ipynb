{
 "cells": [
  {
   "cell_type": "markdown",
   "metadata": {},
   "source": [
    "# Load modules"
   ]
  },
  {
   "cell_type": "code",
   "execution_count": 2,
   "metadata": {
    "collapsed": true,
    "jupyter": {
     "outputs_hidden": true
    }
   },
   "outputs": [],
   "source": [
    "import numpy as np\n",
    "import netCDF4\n",
    "import matplotlib as mpl\n",
    "import matplotlib.pyplot as plt"
   ]
  },
  {
   "cell_type": "markdown",
   "metadata": {},
   "source": [
    "# Load file with resolved tidal data"
   ]
  },
  {
   "cell_type": "code",
   "execution_count": 3,
   "metadata": {
    "collapsed": false,
    "jupyter": {
     "outputs_hidden": false
    }
   },
   "outputs": [],
   "source": [
    "NC = netCDF4.Dataset('warner.3d.nc')\n",
    "time = NC.variables['time'][1:] # exclude initial tidal snapshot (avoid double-couting during tidal averaging)\n",
    "nmax = len(time)\n",
    "dx = NC.variables['dx'][:]\n",
    "dy = NC.variables['dy'][:]"
   ]
  },
  {
   "cell_type": "markdown",
   "metadata": {},
   "source": [
    "## Location of cross-section"
   ]
  },
  {
   "cell_type": "code",
   "execution_count": 4,
   "metadata": {
    "collapsed": true,
    "jupyter": {
     "outputs_hidden": true
    }
   },
   "outputs": [],
   "source": [
    "i = 45 ; j = 0"
   ]
  },
  {
   "cell_type": "code",
   "execution_count": 5,
   "metadata": {
    "collapsed": false,
    "jupyter": {
     "outputs_hidden": false
    }
   },
   "outputs": [
    {
     "name": "stdout",
     "output_type": "stream",
     "text": [
      "Analyze cross-section  22.5  km upstream of open boundary.\n"
     ]
    }
   ],
   "source": [
    "xcl = NC.variables['xc'][i]\n",
    "xcr = NC.variables['xc'][i+1]\n",
    "xi = 0.5 * ( xcl + xcr ) # average to U-point interface between center cells\n",
    "print( 'Analyze cross-section ', xi/1000, ' km upstream of open boundary.' )"
   ]
  },
  {
   "cell_type": "markdown",
   "metadata": {},
   "source": [
    "## Analyze water depth"
   ]
  },
  {
   "cell_type": "markdown",
   "metadata": {},
   "source": [
    "Read bathymetry (water depth below z=0):"
   ]
  },
  {
   "cell_type": "code",
   "execution_count": 6,
   "metadata": {
    "collapsed": true,
    "jupyter": {
     "outputs_hidden": true
    }
   },
   "outputs": [],
   "source": [
    "bathyl = NC.variables['bathymetry'][j,i]\n",
    "bathyr = NC.variables['bathymetry'][j,i+1]\n",
    "bathyi = 0.5 * ( bathyl + bathyr ) # average to U-point interface between center cells"
   ]
  },
  {
   "cell_type": "markdown",
   "metadata": {},
   "source": [
    "Read time-varying sea surface elevation (water height above z=0):"
   ]
  },
  {
   "cell_type": "code",
   "execution_count": 7,
   "metadata": {
    "collapsed": true,
    "jupyter": {
     "outputs_hidden": true
    }
   },
   "outputs": [],
   "source": [
    "elevl = NC.variables['elev'][:,j,i]\n",
    "elevr = NC.variables['elev'][:,j,i+1]\n",
    "elevi = 0.25 * ( elevl[:-1] + elevl[1:] + elevr[:-1] + elevr[1:] ) # average in space and time"
   ]
  },
  {
   "cell_type": "markdown",
   "metadata": {},
   "source": [
    "Calculate time-varying and mean water depth:"
   ]
  },
  {
   "cell_type": "code",
   "execution_count": 8,
   "metadata": {
    "collapsed": true,
    "jupyter": {
     "outputs_hidden": true
    }
   },
   "outputs": [],
   "source": [
    "Di = bathyi + elevi\n",
    "Di_mean = Di.mean()"
   ]
  },
  {
   "cell_type": "markdown",
   "metadata": {},
   "source": [
    "Show in a plot:"
   ]
  },
  {
   "cell_type": "code",
   "execution_count": 9,
   "metadata": {
    "collapsed": false,
    "jupyter": {
     "outputs_hidden": false
    }
   },
   "outputs": [
    {
     "data": {
      "image/png": "[encoded data removed]",
      "text/plain": [
       "<Figure size 432x288 with 1 Axes>"
      ]
     },
     "metadata": {},
     "output_type": "display_data"
    }
   ],
   "source": [
    "plt.plot( time/86400 , Di , label = 'water depth' )\n",
    "plt.hlines( Di_mean , time[0]/86400 , time[-1]/86400 , label = 'mean water depth' )\n",
    "plt.xlabel('time [doy]')\n",
    "plt.legend()\n",
    "plt.show()"
   ]
  },
  {
   "cell_type": "markdown",
   "metadata": {},
   "source": [
    "## Analyze depth-averaged velocity"
   ]
  },
  {
   "cell_type": "markdown",
   "metadata": {},
   "source": [
    "time-varying depth-averaged velocity:"
   ]
  },
  {
   "cell_type": "code",
   "execution_count": 10,
   "metadata": {
    "collapsed": true,
    "jupyter": {
     "outputs_hidden": true
    }
   },
   "outputs": [],
   "source": [
    "u2d = NC.variables['u'][1:,j,i]"
   ]
  },
  {
   "cell_type": "code",
   "execution_count": 11,
   "metadata": {
    "collapsed": false,
    "jupyter": {
     "outputs_hidden": false
    }
   },
   "outputs": [
    {
     "name": "stdout",
     "output_type": "stream",
     "text": [
      "Mean depth-averaged velocity is <u2d> = -0.017510591\n"
     ]
    }
   ],
   "source": [
    "u2d_mean = u2d.mean()\n",
    "print( 'Mean depth-averaged velocity is <u2d> =', u2d_mean )"
   ]
  },
  {
   "cell_type": "markdown",
   "metadata": {},
   "source": [
    "## Analyze depth-integrated transport"
   ]
  },
  {
   "cell_type": "code",
   "execution_count": 12,
   "metadata": {
    "collapsed": false,
    "jupyter": {
     "outputs_hidden": false
    }
   },
   "outputs": [
    {
     "name": "stdout",
     "output_type": "stream",
     "text": [
      "First guess for mean depth-integrated transport is dy*<D>*<u2d> =  -112.02670633792877\n"
     ]
    }
   ],
   "source": [
    "Di_mean_u2d_mean = Di_mean * u2d_mean\n",
    "print( 'First guess for mean depth-integrated transport is dy*<D>*<u2d> = ', dy*Di_mean_u2d_mean )"
   ]
  },
  {
   "cell_type": "markdown",
   "metadata": {},
   "source": [
    "Q: Why does this value not reproduce the river input Qr=50 ???  \n",
    "A: Because we have to calculate `dy*<D*u2d>` !!!\n",
    "\n",
    "Calculate time-varying and mean depth-integrated transport:"
   ]
  },
  {
   "cell_type": "code",
   "execution_count": 13,
   "metadata": {
    "collapsed": false,
    "jupyter": {
     "outputs_hidden": false
    }
   },
   "outputs": [
    {
     "name": "stdout",
     "output_type": "stream",
     "text": [
      "Mean depth-integrated transport is dy*<D*u2d> = -50.34038797020912\n"
     ]
    }
   ],
   "source": [
    "Du2d = Di * u2d\n",
    "Du2d_mean = Du2d.mean()\n",
    "print( 'Mean depth-integrated transport is dy*<D*u2d> =', dy*Du2d_mean )"
   ]
  },
  {
   "cell_type": "markdown",
   "metadata": {},
   "source": [
    "Q: Why is there still a deviation between `dy*<D*u2d>` and Qr ???  \n",
    "A: Slightly non-periodic model state"
   ]
  },
  {
   "cell_type": "markdown",
   "metadata": {},
   "source": [
    "## Define mean transport velocity"
   ]
  },
  {
   "cell_type": "code",
   "execution_count": 14,
   "metadata": {
    "collapsed": false,
    "jupyter": {
     "outputs_hidden": false
    }
   },
   "outputs": [
    {
     "name": "stdout",
     "output_type": "stream",
     "text": [
      "Mean depth-integrated transport velocity is <D*u2d>/<D> = -0.00786857\n",
      "Mean depth-averaged velocity was <u2d> = -0.017510591\n"
     ]
    }
   ],
   "source": [
    "u2d_twa = Du2d_mean / Di_mean\n",
    "print( 'Mean depth-integrated transport velocity is <D*u2d>/<D> =', u2d_twa )\n",
    "print( 'Mean depth-averaged velocity was <u2d> =', u2d_mean )"
   ]
  },
  {
   "cell_type": "markdown",
   "metadata": {},
   "source": [
    "`u2d_twa = <D*u2d>/<D>` is the mean velocity consistent with the volume transport !!!"
   ]
  },
  {
   "cell_type": "markdown",
   "metadata": {},
   "source": [
    "## 2D guess for Qin and Qout"
   ]
  },
  {
   "cell_type": "code",
   "execution_count": 15,
   "metadata": {
    "collapsed": false,
    "jupyter": {
     "outputs_hidden": false
    }
   },
   "outputs": [
    {
     "name": "stdout",
     "output_type": "stream",
     "text": [
      "2D guess for Qin  from tidally-averaged data is  dy*<D*u2d>^+ = 0.0\n",
      "2D guess for Qout from tidally-averaged data is -dy*<D*u2d>^- = 50.34038797020912\n"
     ]
    }
   ],
   "source": [
    "print( '2D guess for Qin  from tidally-averaged data is  dy*<D*u2d>^+ =',  np.fmax( 0 , Du2d_mean ) * dy ) # only consider positive transports\n",
    "print( '2D guess for Qout from tidally-averaged data is -dy*<D*u2d>^- =', -np.fmin( Du2d_mean , 0 ) * dy ) # only consider negative transports"
   ]
  },
  {
   "cell_type": "markdown",
   "metadata": {},
   "source": [
    "## Check volume balance"
   ]
  },
  {
   "cell_type": "code",
   "execution_count": 16,
   "metadata": {
    "collapsed": false,
    "jupyter": {
     "outputs_hidden": false
    }
   },
   "outputs": [
    {
     "name": "stdout",
     "output_type": "stream",
     "text": [
      " dV/dt = -0.34038975302662167\n"
     ]
    }
   ],
   "source": [
    "t0 = NC.variables['time'][ 0]\n",
    "t1 = NC.variables['time'][-1]\n",
    "bathy = NC.variables['bathymetry'][j,i+1:]\n",
    "elev0 = NC.variables['elev'][ 0,j,i+1:]\n",
    "elev1 = NC.variables['elev'][-1,j,i+1:]\n",
    "D0 = bathy + elev0\n",
    "D1 = bathy + elev1\n",
    "V0 = D0.sum() * dx * dy\n",
    "V1 = D1.sum() * dx * dy\n",
    "print(' dV/dt =', ( V1 - V0 ) / ( t1 - t0 ) )"
   ]
  },
  {
   "cell_type": "markdown",
   "metadata": {},
   "source": [
    "==> Slightly non-periodic state dV/dt<>0 (could be avoided by averaging over more tidal cycles) !!!  \n",
    "==> Volume balance agrees with Qr+Qin-Qout (single precision errors can be avoided with `-D_NCDF_SAVE_DOUBLE_`) !!!"
   ]
  },
  {
   "cell_type": "markdown",
   "metadata": {},
   "source": [
    "# Analyze depth-resolved data"
   ]
  },
  {
   "cell_type": "markdown",
   "metadata": {},
   "source": [
    "## Calculate layer heights and vertical positions"
   ]
  },
  {
   "cell_type": "code",
   "execution_count": 37,
   "metadata": {
    "collapsed": false,
    "jupyter": {
     "outputs_hidden": false
    }
   },
   "outputs": [
    {
     "name": "stdout",
     "output_type": "stream",
     "text": [
      "(112,)\n",
      "(40,)\n"
     ]
    },
    {
     "data": {
      "text/plain": [
       "(112, 40)"
      ]
     },
     "execution_count": 37,
     "metadata": {},
     "output_type": "execute_result"
    }
   ],
   "source": [
    "if 'h' in NC.variables.keys():\n",
    "    hl = NC.variables['h'][:,1:,j,i]\n",
    "    hr = NC.variables['h'][:,1:,j,i+1]\n",
    "    hi = 0.25 * ( hl[:-1,:] + hl[1:,:] + hr[:-1,:] + hr[1:,:] ) # average in space and time\n",
    "elif 'sigma' in NC.variables.keys():\n",
    "    sigma = NC.variables['sigma'][:]\n",
    "    hi = np.outer( Di , np.diff(sigma) ) # (time, zc)\n",
    "kmax = hi.shape[1]"
   ]
  },
  {
   "cell_type": "code",
   "execution_count": 18,
   "metadata": {
    "collapsed": false,
    "jupyter": {
     "outputs_hidden": false
    }
   },
   "outputs": [],
   "source": [
    "zwi = np.insert( hi, 0, -bathyi, axis=1 ).cumsum(axis=1) # interface position\n",
    "zci = 0.5 * ( zwi[:,:-1] + zwi[:,1:] ) # center position"
   ]
  },
  {
   "cell_type": "markdown",
   "metadata": {},
   "source": [
    "## Analyze depth-resolved velocity"
   ]
  },
  {
   "cell_type": "code",
   "execution_count": 19,
   "metadata": {
    "collapsed": true,
    "jupyter": {
     "outputs_hidden": true
    }
   },
   "outputs": [],
   "source": [
    "u3d = NC.variables['uu'][1:,1:,j,i]"
   ]
  },
  {
   "cell_type": "code",
   "execution_count": 20,
   "metadata": {
    "collapsed": false,
    "jupyter": {
     "outputs_hidden": false
    }
   },
   "outputs": [
    {
     "data": {
      "image/png": "[encoded data removed]",
      "text/plain": [
       "<Figure size 432x288 with 1 Axes>"
      ]
     },
     "metadata": {},
     "output_type": "display_data"
    }
   ],
   "source": [
    "nmax = u3d.shape[0]\n",
    "nprofs = 8 # should be multiple of 4\n",
    "for n in range(nmax):\n",
    "    if not (n+1)%(nmax//nprofs): plt.plot(u3d[n,:],zci[n,:], label='t'+str((n+1)//(nmax//nprofs)))\n",
    "plt.vlines( 0, -bathyi, 0, linestyles='dotted')\n",
    "plt.xlabel('velocity [m/s]')\n",
    "plt.ylabel('z [m]')\n",
    "plt.legend()    \n",
    "plt.show()"
   ]
  },
  {
   "cell_type": "markdown",
   "metadata": {},
   "source": [
    "### Mean depth-resolved velocity"
   ]
  },
  {
   "cell_type": "code",
   "execution_count": 21,
   "metadata": {
    "collapsed": true,
    "jupyter": {
     "outputs_hidden": true
    }
   },
   "outputs": [],
   "source": [
    "u3d_mean = u3d.mean(axis=0)"
   ]
  },
  {
   "cell_type": "markdown",
   "metadata": {},
   "source": [
    "### Mean depth-resolved transport velocity"
   ]
  },
  {
   "cell_type": "code",
   "execution_count": 22,
   "metadata": {
    "collapsed": true,
    "jupyter": {
     "outputs_hidden": true
    }
   },
   "outputs": [],
   "source": [
    "hu3d = hi * u3d\n",
    "hu3d_mean = hu3d.mean(axis=0)\n",
    "hi_mean = hi.mean(axis=0)\n",
    "u3d_twa = hu3d_mean / hi_mean"
   ]
  },
  {
   "cell_type": "code",
   "execution_count": 23,
   "metadata": {
    "collapsed": false,
    "jupyter": {
     "outputs_hidden": false
    }
   },
   "outputs": [
    {
     "data": {
      "image/png": "[encoded data removed]",
      "text/plain": [
       "<Figure size 432x288 with 1 Axes>"
      ]
     },
     "metadata": {},
     "output_type": "display_data"
    },
    {
     "name": "stdout",
     "output_type": "stream",
     "text": [
      "dy*sum(<h>*<u3d>) = -112.02668428409898\n",
      "dy*sum(<h>*<u3d_twa>) = -50.34039056900846\n",
      "Mean depth-integrated transport was dy*<D*u2d> = -50.34038797020912\n"
     ]
    }
   ],
   "source": [
    "zci_mean = zci.mean(axis=0)\n",
    "plt.plot(u3d_mean, zci_mean, label='<u3d>')\n",
    "plt.plot(u3d_twa, zci_mean, label='u3d_twa')\n",
    "plt.vlines( 0, -bathyi, 0, linestyles='dotted')\n",
    "plt.xlabel('mean velocity [m/s]')\n",
    "plt.ylabel('z [m]')\n",
    "plt.legend()\n",
    "plt.show()\n",
    "print( 'dy*sum(<h>*<u3d>) =', dy * np.sum( hi_mean * u3d_mean ) )\n",
    "print( 'dy*sum(<h>*<u3d_twa>) =', dy * np.sum( hi_mean * u3d_twa ) )\n",
    "print( 'Mean depth-integrated transport was dy*<D*u2d> =', dy*Du2d_mean )"
   ]
  },
  {
   "cell_type": "markdown",
   "metadata": {},
   "source": [
    "==> `u3d_twa = <h*u3d>/<h>` is the mean depth-resolved velocity consistent with the volume transport !!!"
   ]
  },
  {
   "cell_type": "markdown",
   "metadata": {},
   "source": [
    "### 3D guess for Qin and Qout"
   ]
  },
  {
   "cell_type": "code",
   "execution_count": 24,
   "metadata": {
    "collapsed": false,
    "jupyter": {
     "outputs_hidden": false
    }
   },
   "outputs": [
    {
     "name": "stdout",
     "output_type": "stream",
     "text": [
      "3D guess for Qin  from tidally-averaged data is  dy*sum( <h*u3d>^+ ) = 154.24356594426868\n",
      "3D guess for Qout from tidally-averaged data is -dy*sum( <h*u3d>^- ) = 204.58395651327714\n"
     ]
    }
   ],
   "source": [
    "print( '3D guess for Qin  from tidally-averaged data is  dy*sum( <h*u3d>^+ ) =',  np.sum( np.fmax( 0 , hu3d_mean ) ) * dy ) # only consider positive transports\n",
    "print( '3D guess for Qout from tidally-averaged data is -dy*sum( <h*u3d>^- ) =', -np.sum( np.fmin( hu3d_mean , 0 ) ) * dy ) # only consider negative transports"
   ]
  },
  {
   "cell_type": "markdown",
   "metadata": {},
   "source": [
    "# Binning into salinity classes"
   ]
  },
  {
   "cell_type": "code",
   "execution_count": 25,
   "metadata": {
    "collapsed": true,
    "jupyter": {
     "outputs_hidden": true
    }
   },
   "outputs": [],
   "source": [
    "saltl = NC.variables['salt'][:-1,1:,j,i  ] #include initial, but exclude final state\n",
    "saltr = NC.variables['salt'][:-1,1:,j,i+1] #include initial, but exclude final state\n",
    "salt = 0.5 * ( saltl + saltr )"
   ]
  },
  {
   "cell_type": "code",
   "execution_count": 26,
   "metadata": {
    "collapsed": true,
    "jupyter": {
     "outputs_hidden": true
    }
   },
   "outputs": [],
   "source": [
    "nbins = 10\n",
    "smin = min( saltl.min() , saltr.min() ) -1e-10\n",
    "smax = max( saltl.max() , saltr.max() )\n",
    "Si = np.linspace( smin , smax , nbins+1 )"
   ]
  },
  {
   "cell_type": "code",
   "execution_count": 27,
   "metadata": {
    "collapsed": false,
    "jupyter": {
     "outputs_hidden": false
    }
   },
   "outputs": [],
   "source": [
    "h_s   = np.zeros((nmax,nbins+1))\n",
    "hu_s  = np.zeros((nmax,nbins+1))\n",
    "hus_s = np.zeros((nmax,nbins+1))\n",
    "for n in range(nmax):\n",
    "    for k in range(kmax):\n",
    "        S = salt[n,k]\n",
    "        upstream_approximation = True\n",
    "        if upstream_approximation:\n",
    "            if u3d[n,k] > 0:\n",
    "                S = saltl[n,k]\n",
    "            elif u3d[n,k] < 0:\n",
    "                S = saltr[n,k]\n",
    "        bin = max( 0 , int( np.ceil( (S-Si[0])/(Si[nbins]-Si[0])*nbins ) ) )\n",
    "        if bin > nbins: continue\n",
    "        h_s  [n,bin] = h_s  [n,bin] + hi[n,k]\n",
    "        hu_s [n,bin] = hu_s [n,bin] + hi[n,k]*u3d[n,k]\n",
    "        hus_s[n,bin] = hus_s[n,bin] + hi[n,k]*u3d[n,k]*S"
   ]
  },
  {
   "cell_type": "code",
   "execution_count": 28,
   "metadata": {
    "collapsed": false,
    "jupyter": {
     "outputs_hidden": false
    }
   },
   "outputs": [],
   "source": [
    "h_s_mean   = h_s.mean(axis=0)\n",
    "hu_s_mean  = hu_s.mean(axis=0)\n",
    "hus_s_mean = hus_s.mean(axis=0)\n",
    "u_s_twa = np.zeros_like(h_s_mean)\n",
    "np.divide( hu_s_mean , h_s_mean , out = u_s_twa , where = (h_s_mean > 0) ) ;"
   ]
  },
  {
   "cell_type": "code",
   "execution_count": 29,
   "metadata": {
    "collapsed": true,
    "jupyter": {
     "outputs_hidden": true
    }
   },
   "outputs": [],
   "source": [
    "S_s = 0.5 * ( Si[:-1] + Si[1:] )"
   ]
  },
  {
   "cell_type": "code",
   "execution_count": 30,
   "metadata": {
    "collapsed": false,
    "jupyter": {
     "outputs_hidden": false
    }
   },
   "outputs": [
    {
     "data": {
      "image/png": "[encoded data removed]",
      "text/plain": [
       "<Figure size 432x288 with 1 Axes>"
      ]
     },
     "metadata": {},
     "output_type": "display_data"
    },
    {
     "name": "stdout",
     "output_type": "stream",
     "text": [
      "dy*sum(hu_s_mean) = -50.34039056900863\n"
     ]
    }
   ],
   "source": [
    "plt.plot(u_s_twa[1:], S_s)\n",
    "plt.vlines( 0, Si[0], Si[-1], linestyle='dotted')\n",
    "plt.gca().invert_yaxis()\n",
    "plt.xlabel('mean velocity [m/s]')\n",
    "plt.ylabel('salt [g/kg]')\n",
    "plt.show()\n",
    "print( 'dy*sum(hu_s_mean) =' , dy*hu_s_mean.sum() )"
   ]
  },
  {
   "cell_type": "markdown",
   "metadata": {},
   "source": [
    "==> usually more salt bins are used, but then also a longer time series is needed to fill all bins !!!"
   ]
  },
  {
   "cell_type": "markdown",
   "metadata": {},
   "source": [
    "## Calculate Qin, Qout, Fin, Fout, Sin, Sout"
   ]
  },
  {
   "cell_type": "markdown",
   "metadata": {},
   "source": [
    "### sign method (MacCready 2011 eq. (3.3) and Lorenz et al. 2019 eq. (5))"
   ]
  },
  {
   "cell_type": "code",
   "execution_count": 31,
   "metadata": {
    "collapsed": false,
    "jupyter": {
     "outputs_hidden": false
    }
   },
   "outputs": [
    {
     "name": "stdout",
     "output_type": "stream",
     "text": [
      "isohaline guess for Qin  from tidally-averaged data is  dy*sum( <hu_s>^+ ) = 130.48921954818678\n",
      "isohaline guess for Qout from tidally-averaged data is -dy*sum( <hu_s>^- ) = 180.82961011719541\n",
      "isohaline guess for Fin  from tidally-averaged data is  dy*sum( <hus_s>^+ ) = 3217.7528738500278\n",
      "isohaline guess for Fout from tidally-averaged data is -dy*sum( <hus_s>^- ) = 3023.176091151099\n",
      "Sin  = Fin  / Qin  = 24.65914720764946\n",
      "Sout = Fout / Qout = 16.718368685260025\n"
     ]
    }
   ],
   "source": [
    "Qin  =  np.sum( np.fmax( 0 , hu_s_mean ) ) * dy\n",
    "Qout = -np.sum( np.fmin( hu_s_mean , 0 ) ) * dy\n",
    "print( 'isohaline guess for Qin  from tidally-averaged data is  dy*sum( <hu_s>^+ ) =', Qin  )\n",
    "print( 'isohaline guess for Qout from tidally-averaged data is -dy*sum( <hu_s>^- ) =', Qout )\n",
    "Fin  =  np.sum( np.fmax( 0 , hus_s_mean ) ) * dy\n",
    "Fout = -np.sum( np.fmin( hus_s_mean , 0 ) ) * dy\n",
    "print( 'isohaline guess for Fin  from tidally-averaged data is  dy*sum( <hus_s>^+ ) =', Fin  )\n",
    "print( 'isohaline guess for Fout from tidally-averaged data is -dy*sum( <hus_s>^- ) =', Fout )\n",
    "print( 'Sin  = Fin  / Qin  =', Fin /Qin  )\n",
    "print( 'Sout = Fout / Qout =', Fout/Qout )"
   ]
  },
  {
   "cell_type": "markdown",
   "metadata": {},
   "source": [
    "==> wrong convergence behaviour of bulk values from sign method for increasing number of salt bins !!!"
   ]
  },
  {
   "cell_type": "markdown",
   "metadata": {},
   "source": [
    "### minmax method / dividing salinity method (MacCready 2018 appendix and Lorenz et al. 2019 eq. (7))"
   ]
  },
  {
   "cell_type": "code",
   "execution_count": 32,
   "metadata": {
    "collapsed": false,
    "jupyter": {
     "outputs_hidden": false
    }
   },
   "outputs": [
    {
     "name": "stdout",
     "output_type": "stream",
     "text": [
      "isohaline guess for Qin  from tidally-averaged data is  130.48921954818678\n",
      "isohaline guess for Qout from tidally-averaged data is  180.82961011719541\n",
      "isohaline guess for Fin  from tidally-averaged data is  3217.752873850028\n",
      "isohaline guess for Fout from tidally-averaged data is  3023.1760911510996\n",
      "Sin  = Fin  / Qin  = 24.659147207649465\n",
      "Sout = Fout / Qout = 16.718368685260028\n"
     ]
    }
   ],
   "source": [
    "Q_le_s = hu_s_mean.cumsum() * dy\n",
    "Si_idx = Q_le_s.argmin()\n",
    "Qout = -Q_le_s.min()\n",
    "Qin  = Q_le_s[-1] + Qout\n",
    "print( 'isohaline guess for Qin  from tidally-averaged data is ', Qin  )\n",
    "print( 'isohaline guess for Qout from tidally-averaged data is ', Qout )\n",
    "F_le_s = hus_s_mean.cumsum() * dy\n",
    "Fout = -F_le_s[Si_idx]\n",
    "Fin  = F_le_s[-1] + Fout\n",
    "print( 'isohaline guess for Fin  from tidally-averaged data is ', Fin  )\n",
    "print( 'isohaline guess for Fout from tidally-averaged data is ', Fout )\n",
    "print( 'Sin  = Fin  / Qin  =', Fin /Qin  )\n",
    "print( 'Sout = Fout / Qout =', Fout/Qout )"
   ]
  },
  {
   "cell_type": "markdown",
   "metadata": {},
   "source": [
    "==> These bulk values are relatively stable for number of salt bins !!!  \n",
    "==> Fin and Fout are not accurate (compare with salt balance below) !!!  \n",
    "==> Correct model salt flux cannot be reproduced during postprocessing (see effect of upstream_approximation flag in binning algorithm) !!!  \n",
    "==> Need of online analysis during model runtime !!!"
   ]
  },
  {
   "cell_type": "markdown",
   "metadata": {},
   "source": [
    "## Check salt balance"
   ]
  },
  {
   "cell_type": "code",
   "execution_count": 33,
   "metadata": {
    "collapsed": false,
    "jupyter": {
     "outputs_hidden": false
    }
   },
   "outputs": [
    {
     "name": "stdout",
     "output_type": "stream",
     "text": [
      " d(VS)/dt = 29.699386090524495\n"
     ]
    }
   ],
   "source": [
    "if 'h' in NC.variables.keys():\n",
    "    h0 = NC.variables['h'][ 0,1:,j,i+1:]\n",
    "    h1 = NC.variables['h'][-1,1:,j,i+1:]\n",
    "elif 'sigma' in NC.variables.keys():\n",
    "    sigma = NC.variables['sigma'][:]\n",
    "    h0 = np.outer( np.diff(sigma) , D0 ) # (zc, xc)\n",
    "    h1 = np.outer( np.diff(sigma) , D1 ) # (zc, xc)\n",
    "salt0 = NC.variables['salt'][ 0,1:,j,i+1:]\n",
    "salt1 = NC.variables['salt'][-1,1:,j,i+1:]\n",
    "hS0 = h0 * salt0\n",
    "hS1 = h1 * salt1\n",
    "VS0 = hS0.sum() * dx * dy\n",
    "VS1 = hS1.sum() * dx * dy\n",
    "print(' d(VS)/dt =', ( VS1 - VS0 ) / ( t1 - t0 ) )"
   ]
  },
  {
   "cell_type": "markdown",
   "metadata": {},
   "source": [
    "==> Slightly non-periodic state d(VS)/dt<>0 (could be avoided by avergaing over more tidal cycles) !!!  \n",
    "==> Salt balance does not agree with approximated Fin-Fout !!!"
   ]
  }
 ],
 "metadata": {
  "kernelspec": {
   "display_name": "Python 3",
   "language": "python",
   "name": "python3"
  },
  "language_info": {
   "codemirror_mode": {
    "name": "ipython",
    "version": 3
   },
   "file_extension": ".py",
   "mimetype": "text/x-python",
   "name": "python",
   "nbconvert_exporter": "python",
   "pygments_lexer": "ipython3",
   "version": "3.8.5"
  }
 },
 "nbformat": 4,
 "nbformat_minor": 4
}
