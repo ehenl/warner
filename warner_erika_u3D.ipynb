{
 "cells": [
  {
   "cell_type": "markdown",
   "metadata": {},
   "source": [
    "# 0. Preps"
   ]
  },
  {
   "cell_type": "markdown",
   "metadata": {},
   "source": [
    "### 0.1 Load modules"
   ]
  },
  {
   "cell_type": "code",
   "execution_count": 1,
   "metadata": {},
   "outputs": [],
   "source": [
    "import numpy as np\n",
    "import matplotlib.pyplot as plt\n",
    "import netCDF4\n",
    "import brewer2mpl\n",
    "import seaborn as sns\n",
    "bmap = brewer2mpl.get_map('Paired', 'qualitative', 8)\n",
    "colors = bmap.mpl_colors"
   ]
  },
  {
   "cell_type": "markdown",
   "metadata": {},
   "source": [
    "### 0.2 Pre-set parameters for plotting"
   ]
  },
  {
   "cell_type": "code",
   "execution_count": 2,
   "metadata": {},
   "outputs": [],
   "source": [
    "plt.rcParams.update({\n",
    "    \"font.weight\": \"normal\",\n",
    "    \"xtick.labelsize\": 15,\n",
    "    \"ytick.labelsize\": 15,\n",
    "    \"lines.color\": \"k\",\n",
    "    \"axes.titlesize\": 18,\n",
    "    \"axes.titleweight\": \"normal\",\n",
    "    \"axes.labelweight\": \"bold\",\n",
    "    \"axes.labelsize\": 18,\n",
    "    \"contour.linewidth\": 0.8,\n",
    "    \"legend.fontsize\": 14\n",
    "})"
   ]
  },
  {
   "cell_type": "markdown",
   "metadata": {},
   "source": [
    "### 0.3 Plotting functions"
   ]
  },
  {
   "cell_type": "code",
   "execution_count": 3,
   "metadata": {},
   "outputs": [],
   "source": [
    "def basic_plot(time,var,varM,label,xi,v_file,depth=False):\n",
    "    '''\n",
    "    This function plots a chosen variable as a function of time,\n",
    "    and, in addition, the variable's mean.\n",
    "    _____________________________________________________________________\n",
    "    \n",
    "    time   ---> distance along x-axis\n",
    "    var    ---> chosen variable \n",
    "    varM   ---> mean of chosen variable\n",
    "    label  ---> specify label for legend\n",
    "    xi     ---> location of cross-section\n",
    "    v_file ---> specify if 2D or 3D velocity file\n",
    "    _____________________________________________________________________\n",
    "    '''\n",
    "    sns.set()\n",
    "    fig, ax  = plt.subplots(figsize=(6,4))                                                # plot fig with one subplot\n",
    "    ax.plot  (time,var,label=label,color=colors[0],lw=4)                                  # plot the chosen variable as fct of time\n",
    "    ax.hlines(varM,xmin=time[0],xmax=time[-1],label='mean '+label,color=colors[1],lw=4)   # plot the mean of the chosen variable\n",
    "    ax.legend(loc=1)                                                                      # add legend and specify its location\n",
    "    if depth==False:\n",
    "        ax.set(title='Cross-section at i = '+str(xi/1000)+' km; '+v_file,xlabel='time [s]',ylabel='[m]')\n",
    "    if depth==True:\n",
    "        ax.set(title='Cross-section at i = '+str(xi/1000)+' km',xlabel='time [s]',ylabel='[m]')"
   ]
  },
  {
   "cell_type": "markdown",
   "metadata": {},
   "source": [
    "# 1. Load file with resolved tidal data"
   ]
  },
  {
   "cell_type": "code",
   "execution_count": 4,
   "metadata": {},
   "outputs": [],
   "source": [
    "path_file = '/home/henell/WORK/tools/GETM/setups/warner/warner.3d.nc'    # location of file\n",
    "id_file   = netCDF4.Dataset(path_file, 'r')                              # read file"
   ]
  },
  {
   "cell_type": "code",
   "execution_count": 5,
   "metadata": {},
   "outputs": [
    {
     "name": "stdout",
     "output_type": "stream",
     "text": [
      "\n",
      " Variables in the files:\n",
      " *** grid_type -> has 0 dimensions\n",
      " *** vert_cord -> has 0 dimensions\n",
      " *** ioff -> has 0 dimensions\n",
      " *** joff -> has 0 dimensions\n",
      " *** dx -> has 0 dimensions\n",
      " *** dy -> has 0 dimensions\n",
      " *** xc -> has 1 dimensions\n",
      " *** yc -> has 1 dimensions\n",
      " *** sigma -> has 1 dimensions\n",
      " *** bathymetry -> has 2 dimensions\n",
      " *** time -> has 1 dimensions\n",
      " *** elev -> has 3 dimensions\n",
      " *** u -> has 3 dimensions\n",
      " *** v -> has 3 dimensions\n",
      " *** hcc -> has 3 dimensions\n",
      " *** uu -> has 4 dimensions\n",
      " *** vv -> has 4 dimensions\n",
      " *** w -> has 4 dimensions\n",
      " *** salt -> has 4 dimensions\n",
      " *** sigma_t -> has 4 dimensions\n",
      "\n"
     ]
    }
   ],
   "source": [
    "# print dimension of all variables in file\n",
    "list_var = id_file.variables.keys()\n",
    "print('\\n Variables in the files:')\n",
    "for cvar in list_var:\n",
    "    nb_dim = len(id_file.variables[cvar].dimensions)\n",
    "    print(' *** '+cvar+' -> has '+str(nb_dim)+' dimensions')\n",
    "print('')"
   ]
  },
  {
   "cell_type": "code",
   "execution_count": 6,
   "metadata": {},
   "outputs": [],
   "source": [
    "i = 45 ; j = 0"
   ]
  },
  {
   "cell_type": "code",
   "execution_count": 7,
   "metadata": {},
   "outputs": [],
   "source": [
    "time  = id_file.variables['time'][1:]         # [s]; exclude initial tidal snapshot (avoid double-counting during tidal averaging)\n",
    "dx    = id_file.variables['dx'][:]            # grid spacing (x) [m]\n",
    "dy    = id_file.variables['dy'][:]            # grid spacing (y) [m]\n",
    "salt  = id_file.variables['salt'][1:,:,j,i]   # salinity [gkg-1]"
   ]
  },
  {
   "cell_type": "markdown",
   "metadata": {},
   "source": [
    "### Analyze water depth"
   ]
  },
  {
   "cell_type": "code",
   "execution_count": 8,
   "metadata": {},
   "outputs": [
    {
     "name": "stdout",
     "output_type": "stream",
     "text": [
      "\n",
      " Analyze cross-section  22.5  km upstream of open boundary.\n"
     ]
    }
   ],
   "source": [
    "xcl = id_file.variables['xc'][i]                  # xc [m] @ center of the cell (LHS) \n",
    "xcr = id_file.variables['xc'][i+1]                # xc [m] @ center of the cell (RHS)\n",
    "xi  = 0.5 * ( xcl + xcr )                         # average to U-point interface between center cells\n",
    "print( '\\n Analyze cross-section ',\n",
    "      xi/1000, ' km upstream of open boundary.' )"
   ]
  },
  {
   "cell_type": "code",
   "execution_count": 9,
   "metadata": {},
   "outputs": [],
   "source": [
    "bathyl = id_file.variables['bathymetry'][j,i]    # bathymetry (H) [m] @ center of the cell (LHS) \n",
    "bathyr = id_file.variables['bathymetry'][j,i+1]  # bathymetry (H) [m] @ center of the cell (RHS) \n",
    "bathyi = 0.5 * ( bathyl + bathyr )               # average to U-point interface between center cells"
   ]
  },
  {
   "cell_type": "code",
   "execution_count": 10,
   "metadata": {},
   "outputs": [],
   "source": [
    "elevl = id_file.variables['elev'][:,j,i]                             # elevation (eta) [m] @ center of the cell (LHS) \n",
    "elevr = id_file.variables['elev'][:,j,i+1]                           # elevation (eta) [m] @ center of the cell (RHS) \n",
    "elevi = 0.25 * ( elevl[:-1] + elevl[1:] + elevr[:-1] + elevr[1:] )   # average in space and time"
   ]
  },
  {
   "cell_type": "code",
   "execution_count": 11,
   "metadata": {},
   "outputs": [],
   "source": [
    "sigma = id_file.variables['sigma'][:]         # depth in sigma coordinates\n",
    "(Nt, Nk) = np.shape(salt)"
   ]
  },
  {
   "cell_type": "code",
   "execution_count": 12,
   "metadata": {},
   "outputs": [
    {
     "data": {
      "text/plain": [
       "array([[4.04738577e-320, 3.14072973e-001, 3.14072973e-001, ...,\n",
       "        3.14072973e-001, 3.14072973e-001, 3.14072973e-001],\n",
       "       [4.03179200e-313, 3.14862242e-001, 3.14862242e-001, ...,\n",
       "        3.14862242e-001, 3.14862242e-001, 3.14862242e-001],\n",
       "       [4.94065646e-324, 3.15660616e-001, 3.15660616e-001, ...,\n",
       "        3.15660616e-001, 3.15660616e-001, 3.15660616e-001],\n",
       "       ...,\n",
       "       [0.00000000e+000, 3.11809015e-001, 3.11809015e-001, ...,\n",
       "        3.11809015e-001, 3.11809015e-001, 3.11809015e-001],\n",
       "       [0.00000000e+000, 3.12552736e-001, 3.12552736e-001, ...,\n",
       "        3.12552736e-001, 3.12552736e-001, 3.12552736e-001],\n",
       "       [0.00000000e+000, 3.13308594e-001, 3.13308594e-001, ...,\n",
       "        3.13308594e-001, 3.13308594e-001, 3.13308594e-001]])"
      ]
     },
     "execution_count": 12,
     "metadata": {},
     "output_type": "execute_result"
    }
   ],
   "source": [
    "# calculate vertical layer thickness\n",
    "h = np.empty( (Nt, Nk) )\n",
    "for t in range(Nt):\n",
    "    for k in range(1,Nk):\n",
    "         h[t,k] = ( sigma[k] - sigma[k-1] ) * ( bathyi + elevi[t] )\n",
    "h"
   ]
  },
  {
   "cell_type": "code",
   "execution_count": 13,
   "metadata": {},
   "outputs": [
    {
     "data": {
      "text/plain": [
       "array([[-12.75      , -12.43592703, -12.12185405, ...,  -0.81522702,\n",
       "         -0.50115404,  -0.18708107],\n",
       "       [-12.75      , -12.43513776, -12.12027552, ...,  -0.78523479,\n",
       "         -0.47037255,  -0.15551031],\n",
       "       [-12.75      , -12.43433938, -12.11867877, ...,  -0.75489658,\n",
       "         -0.43923596,  -0.12357534],\n",
       "       ...,\n",
       "       [-12.75      , -12.43819098, -12.12638197, ...,  -0.90125742,\n",
       "         -0.5894484 ,  -0.27763939],\n",
       "       [-12.75      , -12.43744726, -12.12489453, ...,  -0.87299602,\n",
       "         -0.56044328,  -0.24789055],\n",
       "       [-12.75      , -12.43669141, -12.12338281, ...,  -0.84427344,\n",
       "         -0.53096485,  -0.21765625]])"
      ]
     },
     "execution_count": 13,
     "metadata": {},
     "output_type": "execute_result"
    }
   ],
   "source": [
    "# calculate zw, the depth in z coordinates, based on h\n",
    "zw = np.zeros_like(h, subok=False)\n",
    "zw[:,:] = np.cumsum(h[:,:], axis=1)\n",
    "zw = zw - bathyi\n",
    "zw"
   ]
  },
  {
   "cell_type": "code",
   "execution_count": 14,
   "metadata": {},
   "outputs": [],
   "source": [
    "#zx = ( zw[:,:-1] + zw[:,1:] ) / 2\n",
    "#zx[:,0] = zw[:,1]\n",
    "#zx[:,-1] = zw[:,-2]\n",
    "#zx"
   ]
  },
  {
   "cell_type": "code",
   "execution_count": 15,
   "metadata": {},
   "outputs": [],
   "source": [
    "Di      = bathyi + elevi     # time-varying water depth\n",
    "Di_mean = Di.mean()          # mean water depth"
   ]
  },
  {
   "cell_type": "code",
   "execution_count": 16,
   "metadata": {},
   "outputs": [
    {
     "data": {
      "image/png": "[encoded data removed]",
      "text/plain": [
       "<Figure size 432x288 with 1 Axes>"
      ]
     },
     "metadata": {},
     "output_type": "display_data"
    }
   ],
   "source": [
    "basic_plot(time,Di,Di_mean,'water depth',xi,'u2D',depth=True)"
   ]
  },
  {
   "cell_type": "markdown",
   "metadata": {},
   "source": [
    "### Analyze depth-averaged velocity"
   ]
  },
  {
   "cell_type": "code",
   "execution_count": 17,
   "metadata": {},
   "outputs": [
    {
     "name": "stdout",
     "output_type": "stream",
     "text": [
      "Mean depth-averaged velocity is <u2d> = -0.01744917\n"
     ]
    }
   ],
   "source": [
    "u2d      = id_file.variables[ 'u'][1:,j,i]                    # time-varying depth-averaged velocity [m/s]\n",
    "u2d_mean = u2d.mean()                                         # mean depth-averaged velocity [m/s]\n",
    "print( 'Mean depth-averaged velocity is <u2d> =', u2d_mean )"
   ]
  },
  {
   "cell_type": "code",
   "execution_count": 18,
   "metadata": {},
   "outputs": [
    {
     "name": "stdout",
     "output_type": "stream",
     "text": [
      "Mean depth-averaged velocity is <u3d> = -0.017447778868622005\n"
     ]
    }
   ],
   "source": [
    "u3d            = id_file.variables['uu'][1:,:,j,i]                   # time- and depth-varying velocity [m/s]\n",
    "u3d_mean_ik    = u3d.mean(axis=1)                                    # time-varying depth-averaged velocity [m/s]\n",
    "u3d_mean_ik_it = u3d_mean_ik.mean(axis=0)                            # mean depth-averaged velocity [m/s]\n",
    "print( 'Mean depth-averaged velocity is <u3d> =', u3d_mean_ik_it )"
   ]
  },
  {
   "cell_type": "code",
   "execution_count": 19,
   "metadata": {},
   "outputs": [
    {
     "data": {
      "image/png": "[encoded data removed]",
      "text/plain": [
       "<Figure size 432x288 with 1 Axes>"
      ]
     },
     "metadata": {},
     "output_type": "display_data"
    },
    {
     "data": {
      "image/png": "[encoded data removed]",
      "text/plain": [
       "<Figure size 432x288 with 1 Axes>"
      ]
     },
     "metadata": {},
     "output_type": "display_data"
    }
   ],
   "source": [
    "basic_plot(time,u2d,u2d_mean,'depth-averaged velocity',xi,'u2D')\n",
    "basic_plot(time,u3d_mean_ik,u3d_mean_ik_it,'depth-averaged velocity',xi,'u3D')"
   ]
  },
  {
   "cell_type": "markdown",
   "metadata": {},
   "source": [
    "### Analyze depth-integrated transport"
   ]
  },
  {
   "cell_type": "markdown",
   "metadata": {},
   "source": [
    "#### First guesses"
   ]
  },
  {
   "cell_type": "markdown",
   "metadata": {},
   "source": [
    "#### u2D"
   ]
  },
  {
   "cell_type": "code",
   "execution_count": 20,
   "metadata": {},
   "outputs": [
    {
     "name": "stdout",
     "output_type": "stream",
     "text": [
      "First guess for mean depth-integrated transport is dy*<D>*<u2d> =  -111.63073033094406\n"
     ]
    }
   ],
   "source": [
    "Di_mean_u2d_mean = Di_mean * u2d_mean                                            # mean depth-integrated transport from 2D u-field\n",
    "print( 'First guess for mean depth-integrated transport is dy*<D>*<u2d> = ',\n",
    "      dy*Di_mean_u2d_mean )"
   ]
  },
  {
   "cell_type": "markdown",
   "metadata": {},
   "source": [
    "#### u3D"
   ]
  },
  {
   "cell_type": "code",
   "execution_count": 21,
   "metadata": {},
   "outputs": [
    {
     "name": "stdout",
     "output_type": "stream",
     "text": [
      "First guess for mean depth-integrated transport is dy*<D>*<u3d> =  -111.62182486786821\n"
     ]
    }
   ],
   "source": [
    "Di_mean_u3d_mean = Di_mean * u3d_mean_ik_it                                      # mean depth-integrated transport from 3D u-field\n",
    "print( 'First guess for mean depth-integrated transport is dy*<D>*<u3d> = ',\n",
    "      dy*Di_mean_u3d_mean )"
   ]
  },
  {
   "cell_type": "code",
   "execution_count": 22,
   "metadata": {},
   "outputs": [
    {
     "name": "stdout",
     "output_type": "stream",
     "text": [
      "First guess for mean depth-integrated transport is dy*<h>*<u3d> =  -2.722483659811219\n"
     ]
    }
   ],
   "source": [
    "h_mean = np.mean(h.mean(axis=1))\n",
    "h_mean_u3d_mean = h_mean * u3d_mean_ik_it                                      # mean depth-integrated transport from 3D u-field\n",
    "print( 'First guess for mean depth-integrated transport is dy*<h>*<u3d> = ',\n",
    "      dy*h_mean_u3d_mean )"
   ]
  },
  {
   "cell_type": "code",
   "execution_count": 23,
   "metadata": {},
   "outputs": [
    {
     "name": "stdout",
     "output_type": "stream",
     "text": [
      "First guess for mean depth-integrated transport is dy*<z>*<u3d> =  55.418675261335245\n"
     ]
    }
   ],
   "source": [
    "z_mean = np.mean(zw.mean(axis=1))\n",
    "z_mean_u3d_mean = z_mean * u3d_mean_ik_it                                      # mean depth-integrated transport from 3D u-field\n",
    "print( 'First guess for mean depth-integrated transport is dy*<z>*<u3d> = ',\n",
    "      dy*z_mean_u3d_mean )"
   ]
  },
  {
   "cell_type": "markdown",
   "metadata": {},
   "source": [
    "### Taking the mean over the mean depth/vertical layer thickness times the velocity"
   ]
  },
  {
   "cell_type": "markdown",
   "metadata": {},
   "source": [
    "#### u2D"
   ]
  },
  {
   "cell_type": "code",
   "execution_count": 24,
   "metadata": {},
   "outputs": [
    {
     "name": "stdout",
     "output_type": "stream",
     "text": [
      "Mean depth-integrated transport is dy * < D * u2d > = -51.95033550262451\n"
     ]
    }
   ],
   "source": [
    "Du2d      = Di * u2d                                                             # time-varying depth-integrated transport from 2D u-field\n",
    "Du2d_mean = Du2d.mean()                                                          # mean depth-integrated transport from 2D u-field\n",
    "print( 'Mean depth-integrated transport is dy * < D * u2d > =',\n",
    "      dy*Du2d_mean )"
   ]
  },
  {
   "cell_type": "markdown",
   "metadata": {},
   "source": [
    "#### u3D"
   ]
  },
  {
   "cell_type": "code",
   "execution_count": 25,
   "metadata": {},
   "outputs": [
    {
     "name": "stdout",
     "output_type": "stream",
     "text": [
      "Mean depth-integrated transport is dy*<D*u3d> = -111.62183433771133\n"
     ]
    }
   ],
   "source": [
    "Du3d      = Di * u3d_mean_ik_it                                                  # time-varying depth-integrated transport from 3D u-field\n",
    "Du3d_mean = Du3d.mean()                                                          # mean depth-integrated transport from 3D u-field\n",
    "print( 'Mean depth-integrated transport is dy*<D*u3d> =', dy*Du3d_mean )"
   ]
  },
  {
   "cell_type": "code",
   "execution_count": 26,
   "metadata": {},
   "outputs": [
    {
     "data": {
      "image/png": "[encoded data removed]",
      "text/plain": [
       "<Figure size 432x288 with 1 Axes>"
      ]
     },
     "metadata": {},
     "output_type": "display_data"
    },
    {
     "data": {
      "image/png": "[encoded data removed]",
      "text/plain": [
       "<Figure size 432x288 with 1 Axes>"
      ]
     },
     "metadata": {},
     "output_type": "display_data"
    }
   ],
   "source": [
    "basic_plot(time,Du2d,Du2d_mean,'depth-integrated transport',xi,'u2D')\n",
    "basic_plot(time,Du3d,Du3d_mean,'depth-integrated transport',xi,'u3D')"
   ]
  },
  {
   "cell_type": "markdown",
   "metadata": {},
   "source": [
    "### Define mean transport velocity"
   ]
  },
  {
   "cell_type": "markdown",
   "metadata": {},
   "source": [
    "#### u2D"
   ]
  },
  {
   "cell_type": "code",
   "execution_count": 27,
   "metadata": {},
   "outputs": [
    {
     "name": "stdout",
     "output_type": "stream",
     "text": [
      "Mean depth-integrated transport velocity is <D*u2d>/<D> = -0.008120437\n",
      "Mean depth-averaged velocity is <u2d> = -0.01744917\n"
     ]
    }
   ],
   "source": [
    "u2d_twa = Du2d_mean / Di_mean\n",
    "print( 'Mean depth-integrated transport velocity is <D*u2d>/<D> =', u2d_twa )\n",
    "print( 'Mean depth-averaged velocity is <u2d> =', u2d_mean )"
   ]
  },
  {
   "cell_type": "markdown",
   "metadata": {},
   "source": [
    "#### u3D"
   ]
  },
  {
   "cell_type": "code",
   "execution_count": 28,
   "metadata": {},
   "outputs": [
    {
     "name": "stdout",
     "output_type": "stream",
     "text": [
      "Mean depth-integrated transport velocity is <D*u3d>/<D> = -0.01744778\n",
      "Mean depth-averaged velocity is <u3d> = -0.017447778868622005\n"
     ]
    }
   ],
   "source": [
    "u3d_twa = Du3d_mean / Di_mean\n",
    "print( 'Mean depth-integrated transport velocity is <D*u3d>/<D> =', u3d_twa )\n",
    "print( 'Mean depth-averaged velocity is <u3d> =', u3d_mean_ik_it )"
   ]
  },
  {
   "cell_type": "markdown",
   "metadata": {},
   "source": [
    "### 1$^{st}$ guess for Qin and Qout"
   ]
  },
  {
   "cell_type": "markdown",
   "metadata": {},
   "source": [
    "#### u2D"
   ]
  },
  {
   "cell_type": "code",
   "execution_count": 29,
   "metadata": {},
   "outputs": [
    {
     "name": "stdout",
     "output_type": "stream",
     "text": [
      "First guess for Qin is dy*<(D*u2d)^+> = 1272.9873657226562\n",
      "First guess for Qout is -dy*<(D*u2d)^-> = 1324.9376841953822\n"
     ]
    }
   ],
   "source": [
    "Du2d_in       =  np.fmax( 0 , Du2d ) # only consider positive transports\n",
    "Du2d_out      = -np.fmin( Du2d , 0 ) # only consider negative transports\n",
    "Du2d_in_mean  = Du2d_in.mean()\n",
    "Du2d_out_mean = Du2d_out.mean()\n",
    "print( 'First guess for Qin is dy*<(D*u2d)^+> =', dy*Du2d_in_mean )\n",
    "print( 'First guess for Qout is -dy*<(D*u2d)^-> =', dy*Du2d_out_mean )"
   ]
  },
  {
   "cell_type": "markdown",
   "metadata": {},
   "source": [
    "#### u3D"
   ]
  },
  {
   "cell_type": "code",
   "execution_count": 30,
   "metadata": {},
   "outputs": [
    {
     "name": "stdout",
     "output_type": "stream",
     "text": [
      "First guess for Qin is dy*<(D*u3d)^+> = 0.0\n",
      "First guess for Qout is -dy*<(D*u3d)^-> = 111.62183114460537\n"
     ]
    }
   ],
   "source": [
    "Du3d_in       =  np.fmax( 0 , Du3d ) # only consider positive transports\n",
    "Du3d_out      = -np.fmin( Du3d , 0 ) # only consider negative transports\n",
    "Du3d_in_mean  = Du3d_in.mean()\n",
    "Du3d_out_mean = Du3d_out.mean()\n",
    "print( 'First guess for Qin is dy*<(D*u3d)^+> =', dy*Du3d_in_mean )\n",
    "print( 'First guess for Qout is -dy*<(D*u3d)^-> =', dy*Du3d_out_mean )"
   ]
  },
  {
   "cell_type": "markdown",
   "metadata": {},
   "source": [
    "### Check volume balance"
   ]
  },
  {
   "cell_type": "code",
   "execution_count": 31,
   "metadata": {},
   "outputs": [
    {
     "name": "stdout",
     "output_type": "stream",
     "text": [
      " dV/dt = 0.039201612318200726\n",
      " Qin - Qout + Qr = -1.950318472725911\n",
      " Qin - Qout + Qr = -61.621831144605366\n"
     ]
    }
   ],
   "source": [
    "t0     = id_file.variables['time'][ 0]\n",
    "t1     = id_file.variables['time'][-1]\n",
    "bathy1 = id_file.variables['bathymetry'][j,i+1:]\n",
    "elev0  = id_file.variables['elev'][ 0,j,i+1:]\n",
    "elev1  = id_file.variables['elev'][-1,j,i+1:]\n",
    "D0     = bathy1 + elev0\n",
    "D1     = bathy1 + elev1\n",
    "V0     = D0.sum() * dx * dy\n",
    "V1     = D1.sum() * dx * dy\n",
    "print(' dV/dt =', ( V1 - V0 ) / ( t1 - t0 ) )\n",
    "print(' Qin - Qout + Qr =', dy * ( Du2d_in_mean - Du2d_out_mean ) + 50 )  #### u2D\n",
    "print(' Qin - Qout + Qr =', dy * ( Du3d_in_mean - Du3d_out_mean ) + 50 )  #### u3D"
   ]
  },
  {
   "cell_type": "markdown",
   "metadata": {},
   "source": [
    "==> Slightly non-periodic state dV/dt<>0 (could be avoided by averaging over more tidal cycles) !!!  \n",
    "==> Volume balance is ok (single precision errors can be avoided with `-D_NCDF_SAVE_DOUBLE_`) !!!"
   ]
  },
  {
   "cell_type": "code",
   "execution_count": null,
   "metadata": {},
   "outputs": [],
   "source": []
  },
  {
   "cell_type": "code",
   "execution_count": null,
   "metadata": {},
   "outputs": [],
   "source": []
  }
 ],
 "metadata": {
  "kernelspec": {
   "display_name": "Python 3",
   "language": "python",
   "name": "python3"
  },
  "language_info": {
   "codemirror_mode": {
    "name": "ipython",
    "version": 3
   },
   "file_extension": ".py",
   "mimetype": "text/x-python",
   "name": "python",
   "nbconvert_exporter": "python",
   "pygments_lexer": "ipython3",
   "version": "3.8.5"
  }
 },
 "nbformat": 4,
 "nbformat_minor": 4
}
